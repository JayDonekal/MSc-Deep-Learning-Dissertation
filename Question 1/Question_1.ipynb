{
  "nbformat": 4,
  "nbformat_minor": 0,
  "metadata": {
    "colab": {
      "name": "Question 1.ipynb",
      "version": "0.3.2",
      "provenance": [],
      "collapsed_sections": []
    },
    "kernelspec": {
      "name": "python3",
      "display_name": "Python 3"
    }
  },
  "cells": [
    {
      "cell_type": "code",
      "metadata": {
        "id": "Y0tTIgkI05yd",
        "colab_type": "code",
        "colab": {}
      },
      "source": [
        "import pandas as pd\n",
        "import matplotlib.pyplot as plt\n",
        "import seaborn as sns\n",
        "import numpy as np\n",
        "import warnings\n",
        "from matplotlib.pyplot import figure \n",
        "from sklearn import cluster\n",
        "from sklearn import metrics\n",
        "from sklearn.preprocessing import scale\n",
        "pd.set_option('display.precision',3)\n",
        "warnings.filterwarnings('ignore')\n",
        "pd.options.display.max_rows = 300\n",
        "pd.options.display.float_format = '{:20,.2f}'.format\n",
        "from keras.models  import Sequential, K\n",
        "from keras.layers import Input, Dense, Flatten, Dropout, BatchNormalization\n",
        "from keras.optimizers import Adam, SGD, RMSprop\n",
        "import matplotlib.pyplot as plt\n",
        "from sklearn.model_selection import train_test_split\n",
        "from sklearn.preprocessing import StandardScaler\n",
        "from sklearn.metrics import confusion_matrix, precision_recall_curve, roc_auc_score, roc_curve, accuracy_score\n",
        "from sklearn.ensemble import RandomForestClassifier\n",
        "import numpy\n",
        "import pandas\n",
        "from keras.models import Sequential\n",
        "from keras.layers import Dense\n",
        "from keras.layers import Dropout\n",
        "from keras.wrappers.scikit_learn import KerasClassifier\n",
        "from sklearn.model_selection import cross_val_score \n",
        "from sklearn.model_selection import cross_val_predict\n",
        "from sklearn.preprocessing import LabelEncoder\n",
        "from sklearn.model_selection import StratifiedKFold\n",
        "from sklearn.preprocessing import StandardScaler\n",
        "from sklearn.pipeline import Pipeline\n",
        "import seaborn as sns\n",
        "%matplotlib inline"
      ],
      "execution_count": 0,
      "outputs": []
    },
    {
      "cell_type": "code",
      "metadata": {
        "id": "6dO8VnH3qQtT",
        "colab_type": "code",
        "colab": {}
      },
      "source": [
        "#### Replaceable code ##### \n",
        "#df1=pd.read_csv('cf.csv')\n",
        "#df2=pd.read_csv('orig.csv')"
      ],
      "execution_count": 0,
      "outputs": []
    },
    {
      "cell_type": "code",
      "metadata": {
        "id": "uEpR8pJf1p5h",
        "colab_type": "code",
        "colab": {}
      },
      "source": [
        "######## The code below is primeraly used for executing in google colabs - pls replace the google colabs code with the commented code above if required###########\n",
        "\n",
        "##### Start of google colabs code ############\n",
        "from google.colab import drive\n",
        "drive.mount('/content/drive')"
      ],
      "execution_count": 0,
      "outputs": []
    },
    {
      "cell_type": "code",
      "metadata": {
        "id": "7sK1Rz2H1p8f",
        "colab_type": "code",
        "colab": {}
      },
      "source": [
        "## Upload cf.csv file ##\n",
        "from google.colab import files\n",
        "uploaded = files.upload()"
      ],
      "execution_count": 0,
      "outputs": []
    },
    {
      "cell_type": "code",
      "metadata": {
        "id": "9HmsNMcg1p_G",
        "colab_type": "code",
        "colab": {}
      },
      "source": [
        "for fn in uploaded.keys():\n",
        "  print('User uploaded file \"{name}\" with length {length} bytes'.format(\n",
        "      name=fn, length=len(uploaded[fn])))"
      ],
      "execution_count": 0,
      "outputs": []
    },
    {
      "cell_type": "code",
      "metadata": {
        "id": "MClSiSe81qD9",
        "colab_type": "code",
        "colab": {}
      },
      "source": [
        "uploaded"
      ],
      "execution_count": 0,
      "outputs": []
    },
    {
      "cell_type": "code",
      "metadata": {
        "id": "LW9AwAv91qHg",
        "colab_type": "code",
        "colab": {}
      },
      "source": [
        "import pandas as pd\n",
        "import io\n",
        "df1 = pd.read_csv(io.StringIO(uploaded['cf.csv'].decode('utf-8')))\n",
        "print(df1)"
      ],
      "execution_count": 0,
      "outputs": []
    },
    {
      "cell_type": "code",
      "metadata": {
        "id": "Ri4T4ZYV1qWy",
        "colab_type": "code",
        "colab": {}
      },
      "source": [
        "### Upload orig.csv ####\n",
        "uploaded2 = files.upload()"
      ],
      "execution_count": 0,
      "outputs": []
    },
    {
      "cell_type": "code",
      "metadata": {
        "id": "sxbQfAKf1qZr",
        "colab_type": "code",
        "colab": {}
      },
      "source": [
        "for fn in uploaded2.keys():\n",
        "  print('User uploaded file \"{name}\" with length {length} bytes'.format(\n",
        "      name=fn, length=len(uploaded2[fn])))"
      ],
      "execution_count": 0,
      "outputs": []
    },
    {
      "cell_type": "code",
      "metadata": {
        "id": "4dg7-EdF1qcZ",
        "colab_type": "code",
        "colab": {}
      },
      "source": [
        "uploaded2"
      ],
      "execution_count": 0,
      "outputs": []
    },
    {
      "cell_type": "code",
      "metadata": {
        "id": "6Fw-3sVf1qe9",
        "colab_type": "code",
        "colab": {}
      },
      "source": [
        "df2 = pd.read_csv(io.StringIO(uploaded2['orig.csv'].decode('utf-8')))\n",
        "print(df2)"
      ],
      "execution_count": 0,
      "outputs": []
    },
    {
      "cell_type": "code",
      "metadata": {
        "id": "pqpoG6XAou7v",
        "colab_type": "code",
        "colab": {}
      },
      "source": [
        "## End of google colabs code ####"
      ],
      "execution_count": 0,
      "outputs": []
    },
    {
      "cell_type": "code",
      "metadata": {
        "id": "yGwlR5eoovE5",
        "colab_type": "code",
        "colab": {}
      },
      "source": [
        ""
      ],
      "execution_count": 0,
      "outputs": []
    },
    {
      "cell_type": "code",
      "metadata": {
        "id": "R0ABP69B1qh-",
        "colab_type": "code",
        "colab": {}
      },
      "source": [
        "#Changing the order of the 3 specified columns\n",
        "\n",
        "df1= df1[[c for c in df1 if c not in ['time', 'viewdoc', 'viewtopic']] \n",
        "       + ['time', 'viewdoc', 'viewtopic']]\n",
        "\n",
        "\n",
        "df1.head()"
      ],
      "execution_count": 0,
      "outputs": []
    },
    {
      "cell_type": "code",
      "metadata": {
        "id": "rq5g9rKo1qku",
        "colab_type": "code",
        "colab": {}
      },
      "source": [
        "print(df1.shape)\n",
        "print(df2.shape)\n",
        "df = pd.concat([df1,df2])\n",
        "df.head(10)"
      ],
      "execution_count": 0,
      "outputs": []
    },
    {
      "cell_type": "code",
      "metadata": {
        "id": "bCAnsUVk1qnC",
        "colab_type": "code",
        "colab": {}
      },
      "source": [
        "df.columns"
      ],
      "execution_count": 0,
      "outputs": []
    },
    {
      "cell_type": "code",
      "metadata": {
        "id": "3hItMEhd1qpo",
        "colab_type": "code",
        "colab": {}
      },
      "source": [
        "df.shape"
      ],
      "execution_count": 0,
      "outputs": []
    },
    {
      "cell_type": "code",
      "metadata": {
        "id": "CklDP-pD1qsV",
        "colab_type": "code",
        "colab": {}
      },
      "source": [
        "#Create rate column\n",
        "df.loc[df['TREL'] == df['urel'], 'rate'] = 1\n",
        "df.loc[df['TREL'] != df['urel'], 'rate'] = 0"
      ],
      "execution_count": 0,
      "outputs": []
    },
    {
      "cell_type": "code",
      "metadata": {
        "id": "5SVEVHkL1qvR",
        "colab_type": "code",
        "colab": {}
      },
      "source": [
        "#Create New size column\n",
        "df.loc[df['SIZE'] == \"lrg\", 'Nsize'] = 2\n",
        "df.loc[df['SIZE'] == \"med\", 'Nsize'] = 1\n",
        "df.loc[df['SIZE'] == \"sml\", 'Nsize'] = 0\n",
        "df"
      ],
      "execution_count": 0,
      "outputs": []
    },
    {
      "cell_type": "code",
      "metadata": {
        "id": "jzWJ9r6o1qyH",
        "colab_type": "code",
        "colab": {}
      },
      "source": [
        "df.columns"
      ],
      "execution_count": 0,
      "outputs": []
    },
    {
      "cell_type": "code",
      "metadata": {
        "id": "RlGnicIL1q6P",
        "colab_type": "code",
        "colab": {}
      },
      "source": [
        "################ Dropping the columns #################################"
      ],
      "execution_count": 0,
      "outputs": []
    },
    {
      "cell_type": "code",
      "metadata": {
        "id": "_GxIovLX1q9I",
        "colab_type": "code",
        "colab": {}
      },
      "source": [
        "df= df.drop(columns=['USER', 'GENDER',\t'COUNTRY',\t'ENGLISH',\t'EDUCATION',\t'SIZE',\t'TREL',\t'TOPIC',\t'DOC', 'viewdoc',\t'viewtopic', 'AGE'\t])\n",
        "df"
      ],
      "execution_count": 0,
      "outputs": []
    },
    {
      "cell_type": "code",
      "metadata": {
        "id": "apWBsuP01q_5",
        "colab_type": "code",
        "colab": {}
      },
      "source": [
        "df= df.reset_index(drop=True)\n",
        "df.tail()"
      ],
      "execution_count": 0,
      "outputs": []
    },
    {
      "cell_type": "code",
      "metadata": {
        "id": "XzEXOvbx1rCt",
        "colab_type": "code",
        "colab": {}
      },
      "source": [
        "df_null=df.isnull().T.sum() #checking the rows with max NAN values\n",
        "df_null=df_null.reset_index(name='val')\n",
        "df_null"
      ],
      "execution_count": 0,
      "outputs": []
    },
    {
      "cell_type": "code",
      "metadata": {
        "id": "Ph95_b0J1rFy",
        "colab_type": "code",
        "colab": {}
      },
      "source": [
        "df_null.index[df_null['val'] > 0 ].tolist()"
      ],
      "execution_count": 0,
      "outputs": []
    },
    {
      "cell_type": "code",
      "metadata": {
        "id": "rDYYvU741rIy",
        "colab_type": "code",
        "colab": {}
      },
      "source": [
        "########### Dropping the null columns #################\n",
        "df= df.drop([324, 325, 326, 327, 328, 329, 330, 331, 332, 845])"
      ],
      "execution_count": 0,
      "outputs": []
    },
    {
      "cell_type": "code",
      "metadata": {
        "id": "TatxeXbL1rLt",
        "colab_type": "code",
        "colab": {}
      },
      "source": [
        "df= df.reset_index(drop=True)\n",
        "df.tail()"
      ],
      "execution_count": 0,
      "outputs": []
    },
    {
      "cell_type": "code",
      "metadata": {
        "id": "Uk5iYoci1rOm",
        "colab_type": "code",
        "colab": {}
      },
      "source": [
        "df.head()"
      ],
      "execution_count": 0,
      "outputs": []
    },
    {
      "cell_type": "code",
      "metadata": {
        "id": "FMmzQDgB1rRj",
        "colab_type": "code",
        "colab": {}
      },
      "source": [
        ""
      ],
      "execution_count": 0,
      "outputs": []
    },
    {
      "cell_type": "code",
      "metadata": {
        "id": "l7kieIqQ1rUd",
        "colab_type": "code",
        "colab": {}
      },
      "source": [
        "############### Splitting the data into x and y ######################"
      ],
      "execution_count": 0,
      "outputs": []
    },
    {
      "cell_type": "code",
      "metadata": {
        "id": "bWRKEGEU1rXY",
        "colab_type": "code",
        "colab": {}
      },
      "source": [
        "df_x=df.iloc[:, [0,1,2,3,4,5,6,7,9]].astype('float').values\n",
        "df_x"
      ],
      "execution_count": 0,
      "outputs": []
    },
    {
      "cell_type": "code",
      "metadata": {
        "id": "tXwGXicJ1raZ",
        "colab_type": "code",
        "colab": {}
      },
      "source": [
        "df_y=df.iloc[:, [8]].values\n",
        "df_y"
      ],
      "execution_count": 0,
      "outputs": []
    },
    {
      "cell_type": "code",
      "metadata": {
        "id": "HTctry0h4_85",
        "colab_type": "code",
        "colab": {}
      },
      "source": [
        "from sklearn.model_selection import train_test_split\n",
        "X_train, X_test, y_train, y_test = train_test_split(df_x, df_y, test_size=0.25, random_state=11111)"
      ],
      "execution_count": 0,
      "outputs": []
    },
    {
      "cell_type": "code",
      "metadata": {
        "id": "6Af5dMlK1rdo",
        "colab_type": "code",
        "colab": {}
      },
      "source": [
        "############### Neural Network Architecture- 1  ###################"
      ],
      "execution_count": 0,
      "outputs": []
    },
    {
      "cell_type": "code",
      "metadata": {
        "id": "BN5KelrR1rgV",
        "colab_type": "code",
        "colab": {}
      },
      "source": [
        ""
      ],
      "execution_count": 0,
      "outputs": []
    },
    {
      "cell_type": "code",
      "metadata": {
        "id": "TnDl6vsf1rl6",
        "colab_type": "code",
        "colab": {}
      },
      "source": [
        "# set random seed \n",
        "seed = 7\n",
        "seed = numpy.random.seed(seed)"
      ],
      "execution_count": 0,
      "outputs": []
    },
    {
      "cell_type": "code",
      "metadata": {
        "id": "R7ZE8_hq1rpC",
        "colab_type": "code",
        "colab": {}
      },
      "source": [
        "# Perform Label encoding on y data\n",
        "encoder = LabelEncoder()\n",
        "encoder.fit(df_y)\n",
        "encoded_Y = encoder.transform(df_y)"
      ],
      "execution_count": 0,
      "outputs": []
    },
    {
      "cell_type": "code",
      "metadata": {
        "id": "VHiHLFZb6M7Z",
        "colab_type": "code",
        "colab": {}
      },
      "source": [
        "# baseline model\n",
        "def arch1():\n",
        "# create model\n",
        "  model = Sequential()\n",
        "  model.add(Dense(9, input_dim=9, kernel_initializer='normal', activation='tanh'))\n",
        "  model.add(Dropout(0.5))\n",
        "  model.add(Dense(1, kernel_initializer='normal', activation='sigmoid'))\n",
        "  # Compile model\n",
        "  model.compile(loss='binary_crossentropy', optimizer='Adam', metrics=['accuracy'])\n",
        "  return model"
      ],
      "execution_count": 0,
      "outputs": []
    },
    {
      "cell_type": "code",
      "metadata": {
        "id": "2GQkRaB36M-O",
        "colab_type": "code",
        "colab": {}
      },
      "source": [
        "# Running Architecture- 1\n",
        "estimator = KerasClassifier(build_fn=arch1, epochs=100, batch_size=10, verbose=0)\n",
        "kfold = StratifiedKFold(n_splits=10, shuffle=True, random_state=seed)\n",
        "results = cross_val_score(estimator, df_x, df_y, cv=kfold)\n",
        "print(\"Results: %.2f%% (%.2f%%)\" % (results.mean()*100, results.std()*100))"
      ],
      "execution_count": 0,
      "outputs": []
    },
    {
      "cell_type": "code",
      "metadata": {
        "id": "AgD8HQGM6NBg",
        "colab_type": "code",
        "colab": {}
      },
      "source": [
        ""
      ],
      "execution_count": 0,
      "outputs": []
    },
    {
      "cell_type": "code",
      "metadata": {
        "id": "_pLkcTrW6NEm",
        "colab_type": "code",
        "colab": {}
      },
      "source": [
        ""
      ],
      "execution_count": 0,
      "outputs": []
    },
    {
      "cell_type": "code",
      "metadata": {
        "colab_type": "code",
        "id": "T1X83ccrgZvt",
        "colab": {}
      },
      "source": [
        "# arch1 Model with standardized dataset\n",
        "numpy.random.seed(seed)\n",
        "estimators = []\n",
        "estimators.append(('standardize', StandardScaler()))\n",
        "estimators.append(('mlp', KerasClassifier(build_fn=arch1, epochs=50, batch_size=10, verbose=0)))\n",
        "pipeline = Pipeline(estimators)\n",
        "kfold = StratifiedKFold(n_splits=10, shuffle=True, random_state=seed)\n",
        "results = cross_val_score(pipeline, df_x, df_y, cv=kfold)\n",
        "print(\"Standardized: %.2f%% (%.2f%%)\" % (results.mean()*100, results.std()*100))"
      ],
      "execution_count": 0,
      "outputs": []
    },
    {
      "cell_type": "code",
      "metadata": {
        "id": "6toGNC98t_30",
        "colab_type": "code",
        "colab": {}
      },
      "source": [
        ""
      ],
      "execution_count": 0,
      "outputs": []
    },
    {
      "cell_type": "code",
      "metadata": {
        "id": "Qr_2IXO86NzA",
        "colab_type": "code",
        "colab": {}
      },
      "source": [
        "###############  Architecture- 2  ###################"
      ],
      "execution_count": 0,
      "outputs": []
    },
    {
      "cell_type": "code",
      "metadata": {
        "id": "RKuY9_Ab6N2Q",
        "colab_type": "code",
        "colab": {}
      },
      "source": [
        ""
      ],
      "execution_count": 0,
      "outputs": []
    },
    {
      "cell_type": "code",
      "metadata": {
        "id": "lLju0ZVD6NcE",
        "colab_type": "code",
        "colab": {}
      },
      "source": [
        ""
      ],
      "execution_count": 0,
      "outputs": []
    },
    {
      "cell_type": "code",
      "metadata": {
        "id": "dU8aH77P6N5p",
        "colab_type": "code",
        "colab": {}
      },
      "source": [
        "X_train, X_test, y_train, y_test = train_test_split(df_x, df_y, test_size=0.25, random_state=11111)"
      ],
      "execution_count": 0,
      "outputs": []
    },
    {
      "cell_type": "code",
      "metadata": {
        "id": "6UDWMHLO6Nwp",
        "colab_type": "code",
        "colab": {}
      },
      "source": [
        "np.mean(df_y), np.mean(1-df_y)"
      ],
      "execution_count": 0,
      "outputs": []
    },
    {
      "cell_type": "code",
      "metadata": {
        "id": "8OMKcQPd6Nn2",
        "colab_type": "code",
        "colab": {}
      },
      "source": [
        "### Random Forest Classifier ###\n",
        "rf_model = RandomForestClassifier(n_estimators=200)\n",
        "rf_model.fit(X_train, y_train)"
      ],
      "execution_count": 0,
      "outputs": []
    },
    {
      "cell_type": "code",
      "metadata": {
        "id": "jPeVYn306NNq",
        "colab_type": "code",
        "colab": {}
      },
      "source": [
        "kfold = StratifiedKFold(n_splits=10, shuffle=True, random_state=seed)\n",
        "results = cross_val_score(rf_model, df_x, df_y, cv=kfold)\n",
        "print(\"Random Forest: %.2f%% (%.2f%%)\" % (results.mean()*100, results.std()*100))"
      ],
      "execution_count": 0,
      "outputs": []
    },
    {
      "cell_type": "code",
      "metadata": {
        "id": "HhWgOiGFs8qE",
        "colab_type": "code",
        "colab": {}
      },
      "source": [
        "### Testing Gradient Boosting Classifier\n",
        "from sklearn.ensemble import GradientBoostingClassifier\n",
        "rf_model = GradientBoostingClassifier(n_estimators=200)\n",
        "rf_model.fit(X_train, y_train)"
      ],
      "execution_count": 0,
      "outputs": []
    },
    {
      "cell_type": "code",
      "metadata": {
        "id": "gmdit4ixs8tw",
        "colab_type": "code",
        "colab": {}
      },
      "source": [
        "kfold = StratifiedKFold(n_splits=10, shuffle=False, random_state=seed)\n",
        "results = cross_val_score(rf_model, df_x, df_y, cv=kfold)\n",
        "print(\"Larger: %.2f%% (%.2f%%)\" % (results.mean()*100, results.std()*100))"
      ],
      "execution_count": 0,
      "outputs": []
    },
    {
      "cell_type": "code",
      "metadata": {
        "id": "91A9PrNFU58j",
        "colab_type": "code",
        "colab": {}
      },
      "source": [
        ""
      ],
      "execution_count": 0,
      "outputs": []
    },
    {
      "cell_type": "code",
      "metadata": {
        "id": "1WUzRHaI6NQB",
        "colab_type": "code",
        "colab": {}
      },
      "source": [
        "###############  Architecture- 3  ###################"
      ],
      "execution_count": 0,
      "outputs": []
    },
    {
      "cell_type": "code",
      "metadata": {
        "id": "YgyqCUOf6NTF",
        "colab_type": "code",
        "colab": {}
      },
      "source": [
        "# larger model\n",
        "def arch3():\n",
        "\t# create model\n",
        "\tmodel = Sequential()\n",
        "\tmodel.add(Dense(9, input_dim=9, kernel_initializer='normal', activation='tanh'))\n",
        "\tmodel.add(Dense(5, kernel_initializer='normal', activation='tanh'))\n",
        "\tmodel.add(Dense(1, kernel_initializer='normal', activation='sigmoid'))\n",
        "\t# Compile model\n",
        "\tmodel.compile(loss='mean_squared_error', optimizer='RMSprop', metrics=['accuracy'])\n",
        "\treturn model\n",
        "estimators = []\n",
        "estimators.append(('standardize', StandardScaler()))\n",
        "estimators.append(('mlp', KerasClassifier(build_fn=arch3, epochs=100, batch_size=10, verbose=0)))\n",
        "pipeline = Pipeline(estimators)\n",
        "kfold = StratifiedKFold(n_splits=10, shuffle=True, random_state=seed)\n",
        "results = cross_val_score(pipeline, df_x, encoded_Y, cv=kfold)\n",
        "print(\"Larger: %.2f%% (%.2f%%)\" % (results.mean()*100, results.std()*100))"
      ],
      "execution_count": 0,
      "outputs": []
    },
    {
      "cell_type": "code",
      "metadata": {
        "id": "tsQ9bdcB6NWF",
        "colab_type": "code",
        "colab": {}
      },
      "source": [
        ""
      ],
      "execution_count": 0,
      "outputs": []
    },
    {
      "cell_type": "code",
      "metadata": {
        "id": "wvysf3RhJLSe",
        "colab_type": "code",
        "colab": {}
      },
      "source": [
        "# larger model\n",
        "def arch3():\n",
        "\t# create model\n",
        "  model = Sequential()\n",
        "  model.add(Dense(9, input_dim=9, kernel_initializer='normal', activation='tanh'))\n",
        "  model.add(Dropout(0.5))\n",
        "  model.add(Dense(5, kernel_initializer='normal', activation='tanh'))\n",
        "  model.add(Dropout(0.5))\n",
        "  model.add(Dense(1, kernel_initializer='normal', activation='sigmoid'))\n",
        "  # Compile model\n",
        "  model.compile(loss='binary_crossentropy', optimizer='adam', metrics=['accuracy'])\n",
        "  return model\n",
        "estimators = []\n",
        "estimators.append(('standardize', StandardScaler()))\n",
        "estimators.append(('mlp', KerasClassifier(build_fn=arch3, epochs=100, batch_size=10, verbose=0)))\n",
        "pipeline = Pipeline(estimators)\n",
        "kfold = StratifiedKFold(n_splits=10, shuffle=True, random_state=seed)\n",
        "results = cross_val_score(pipeline, df_x, encoded_Y, cv=kfold)\n",
        "print(\"Larger: %.2f%% (%.2f%%)\" % (results.mean()*100, results.std()*100))"
      ],
      "execution_count": 0,
      "outputs": []
    },
    {
      "cell_type": "code",
      "metadata": {
        "id": "y1PkZ_-U6NZA",
        "colab_type": "code",
        "colab": {}
      },
      "source": [
        "###############  Neural Network Architecture- 4  ################### "
      ],
      "execution_count": 0,
      "outputs": []
    },
    {
      "cell_type": "code",
      "metadata": {
        "id": "I1af63exW7Ce",
        "colab_type": "code",
        "colab": {}
      },
      "source": [
        "def arch4():\n",
        "\t# create model\n",
        "  model = Sequential()\n",
        "  model.add(Dense(9, input_dim=9, kernel_initializer='normal', activation='tanh'))\n",
        "  model.add(Dropout(0.5))\n",
        "  model.add(Dense(5, kernel_initializer='normal', activation='tanh'))\n",
        "  model.add(Dropout(0.5))\n",
        "  model.add(Dense(3, kernel_initializer='normal', activation='tanh'))\n",
        "  model.add(Dense(1, kernel_initializer='normal', activation='sigmoid'))\n",
        "  # Compile model\n",
        "  model.compile(loss='binary_crossentropy', optimizer='adam', metrics=['accuracy'])\n",
        "  return model\n",
        "estimators = []\n",
        "estimators.append(('standardize', StandardScaler()))\n",
        "estimators.append(('mlp', KerasClassifier(build_fn=arch4, epochs=100, batch_size=10, verbose=0)))\n",
        "pipeline = Pipeline(estimators)\n",
        "kfold = StratifiedKFold(n_splits=10, shuffle=True, random_state=seed)\n",
        "results = cross_val_score(pipeline, df_x, encoded_Y, cv=kfold)\n",
        "print(\"Larger: %.2f%% (%.2f%%)\" % (results.mean()*100, results.std()*100))"
      ],
      "execution_count": 0,
      "outputs": []
    },
    {
      "cell_type": "code",
      "metadata": {
        "id": "7JV_7RWOpJdN",
        "colab_type": "code",
        "colab": {}
      },
      "source": [
        ""
      ],
      "execution_count": 0,
      "outputs": []
    },
    {
      "cell_type": "code",
      "metadata": {
        "id": "-DH3UEe-uBxr",
        "colab_type": "code",
        "colab": {}
      },
      "source": [
        ""
      ],
      "execution_count": 0,
      "outputs": []
    },
    {
      "cell_type": "code",
      "metadata": {
        "id": "DBrRy2dXuB3N",
        "colab_type": "code",
        "colab": {}
      },
      "source": [
        ""
      ],
      "execution_count": 0,
      "outputs": []
    },
    {
      "cell_type": "code",
      "metadata": {
        "id": "1nRjAP026Ntk",
        "colab_type": "code",
        "colab": {}
      },
      "source": [
        ""
      ],
      "execution_count": 0,
      "outputs": []
    },
    {
      "cell_type": "code",
      "metadata": {
        "id": "ufcPOFFV1rr5",
        "colab_type": "code",
        "colab": {}
      },
      "source": [
        ""
      ],
      "execution_count": 0,
      "outputs": []
    },
    {
      "cell_type": "code",
      "metadata": {
        "id": "glaU1yOAr6Yz",
        "colab_type": "code",
        "colab": {}
      },
      "source": [
        ""
      ],
      "execution_count": 0,
      "outputs": []
    },
    {
      "cell_type": "code",
      "metadata": {
        "id": "mxFOqkHvs8mz",
        "colab_type": "code",
        "colab": {}
      },
      "source": [
        ""
      ],
      "execution_count": 0,
      "outputs": []
    }
  ]
}