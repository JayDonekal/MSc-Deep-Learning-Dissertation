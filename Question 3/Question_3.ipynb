{
  "nbformat": 4,
  "nbformat_minor": 0,
  "metadata": {
    "colab": {
      "name": "Question 3.ipynb",
      "version": "0.3.2",
      "provenance": [],
      "collapsed_sections": []
    },
    "kernelspec": {
      "name": "python3",
      "display_name": "Python 3"
    }
  },
  "cells": [
    {
      "cell_type": "code",
      "metadata": {
        "id": "aUhgxb-cjBkY",
        "colab_type": "code",
        "colab": {}
      },
      "source": [
        "import pandas as pd\n",
        "import matplotlib.pyplot as plt\n",
        "import seaborn as sns\n",
        "import numpy as np\n",
        "import warnings\n",
        "from matplotlib.pyplot import figure \n",
        "from sklearn import cluster\n",
        "from sklearn import metrics\n",
        "from sklearn.preprocessing import scale\n",
        "pd.set_option('display.precision',3)\n",
        "warnings.filterwarnings('ignore')\n",
        "pd.options.display.max_rows = 300\n",
        "pd.options.display.float_format = '{:20,.2f}'.format"
      ],
      "execution_count": 0,
      "outputs": []
    },
    {
      "cell_type": "code",
      "metadata": {
        "id": "WjLy4be1sGzl",
        "colab_type": "code",
        "colab": {}
      },
      "source": [
        "#### Replaceable code ##### \n",
        "# df1=pd.read_csv('Book2.csv')\n"
      ],
      "execution_count": 0,
      "outputs": []
    },
    {
      "cell_type": "code",
      "metadata": {
        "id": "JoT46dlQjWPX",
        "colab_type": "code",
        "colab": {}
      },
      "source": [
        "######## The code below is primeraly used for executing in google colabs - pls replace the google colabs code with the commented code above, if required ###########\n",
        "\n",
        "##### Start of google colabs code ############\n",
        "from google.colab import drive\n",
        "drive.mount('/content/drive')"
      ],
      "execution_count": 0,
      "outputs": []
    },
    {
      "cell_type": "code",
      "metadata": {
        "id": "ElAXtemJjWTe",
        "colab_type": "code",
        "colab": {}
      },
      "source": [
        "## Upload Book2.csv file ##\n",
        "\n",
        "from google.colab import files\n",
        "uploaded = files.upload()"
      ],
      "execution_count": 0,
      "outputs": []
    },
    {
      "cell_type": "code",
      "metadata": {
        "id": "t1E4k8dHjWWv",
        "colab_type": "code",
        "colab": {}
      },
      "source": [
        "for fn in uploaded.keys():\n",
        "  print('User uploaded file \"{name}\" with length {length} bytes'.format(\n",
        "      name=fn, length=len(uploaded[fn])))"
      ],
      "execution_count": 0,
      "outputs": []
    },
    {
      "cell_type": "code",
      "metadata": {
        "id": "R0zpESV4jWcd",
        "colab_type": "code",
        "colab": {}
      },
      "source": [
        "uploaded"
      ],
      "execution_count": 0,
      "outputs": []
    },
    {
      "cell_type": "code",
      "metadata": {
        "id": "7ASgPvMXjWfc",
        "colab_type": "code",
        "colab": {}
      },
      "source": [
        "import pandas as pd\n",
        "import io\n",
        "df1 = pd.read_csv(io.StringIO(uploaded['Book2.csv'].decode('utf-8')))\n",
        "print(df1)"
      ],
      "execution_count": 0,
      "outputs": []
    },
    {
      "cell_type": "code",
      "metadata": {
        "id": "NKmfQl4QsBWT",
        "colab_type": "code",
        "colab": {}
      },
      "source": [
        "## End of google colabs code ####"
      ],
      "execution_count": 0,
      "outputs": []
    },
    {
      "cell_type": "code",
      "metadata": {
        "id": "6t9znanYsBcE",
        "colab_type": "code",
        "colab": {}
      },
      "source": [
        ""
      ],
      "execution_count": 0,
      "outputs": []
    },
    {
      "cell_type": "code",
      "metadata": {
        "id": "IGwhXkydjWiQ",
        "colab_type": "code",
        "colab": {}
      },
      "source": [
        "df1.columns"
      ],
      "execution_count": 0,
      "outputs": []
    },
    {
      "cell_type": "code",
      "metadata": {
        "id": "YbE9819onwcP",
        "colab_type": "code",
        "colab": {}
      },
      "source": [
        "df1.head()"
      ],
      "execution_count": 0,
      "outputs": []
    },
    {
      "cell_type": "code",
      "metadata": {
        "id": "DYGY3M0qjWk1",
        "colab_type": "code",
        "colab": {}
      },
      "source": [
        "df= df1.iloc[:, [0,3,8,9,19,20,21,32,35,36,45]]\n",
        "df.head() "
      ],
      "execution_count": 0,
      "outputs": []
    },
    {
      "cell_type": "code",
      "metadata": {
        "id": "2C26Gt24kPfr",
        "colab_type": "code",
        "colab": {}
      },
      "source": [
        "df.loc[df['TRECREL'] == df['userrel'], 'rate'] = 1\n",
        "df.loc[df['TRECREL'] != df['userrel'], 'rate'] = 0"
      ],
      "execution_count": 0,
      "outputs": []
    },
    {
      "cell_type": "code",
      "metadata": {
        "id": "nqex6jUwAnnx",
        "colab_type": "code",
        "colab": {}
      },
      "source": [
        "#Converting the needs_scroll_vert column into binary values\n",
        "df.loc[df['needs_scroll_vert'] == 'yes', 'needs_scroll'] = 1\n",
        "df.loc[df['needs_scroll_vert'] == 'no', 'needs_scroll'] = 0\n",
        "df= df.drop(columns=['needs_scroll_vert'])\n",
        "df.head()"
      ],
      "execution_count": 0,
      "outputs": []
    },
    {
      "cell_type": "code",
      "metadata": {
        "id": "n6VY_vWno3sf",
        "colab_type": "code",
        "colab": {}
      },
      "source": [
        "df.head(10)"
      ],
      "execution_count": 0,
      "outputs": []
    },
    {
      "cell_type": "code",
      "metadata": {
        "id": "uOm-zCWcAnwn",
        "colab_type": "code",
        "colab": {}
      },
      "source": [
        "df_null=df.isnull().T.sum() #checking the rows with max NAN values\n",
        "df_null=df_null.reset_index(name='val')\n",
        "df_null"
      ],
      "execution_count": 0,
      "outputs": []
    },
    {
      "cell_type": "code",
      "metadata": {
        "id": "_rOjmWmYAn0D",
        "colab_type": "code",
        "colab": {}
      },
      "source": [
        "df_null_list=df_null.index[df_null['val'] > 0 ].tolist()\n",
        "df.iloc[df_null_list,:]"
      ],
      "execution_count": 0,
      "outputs": []
    },
    {
      "cell_type": "code",
      "metadata": {
        "id": "F0virmj4S8t7",
        "colab_type": "code",
        "colab": {}
      },
      "source": [
        "df_CF= df.loc[df['EXPERIMENT'] == 'CF']\n",
        "df_LAB= df.loc[df['EXPERIMENT'] == 'LAB']\n",
        "df_UNI= df.loc[df['EXPERIMENT'] == 'UNI']\n",
        "df_CF.head()"
      ],
      "execution_count": 0,
      "outputs": []
    },
    {
      "cell_type": "code",
      "metadata": {
        "id": "8Jz9UfDBS85R",
        "colab_type": "code",
        "colab": {}
      },
      "source": [
        "df_LAB.head()"
      ],
      "execution_count": 0,
      "outputs": []
    },
    {
      "cell_type": "code",
      "metadata": {
        "id": "CLbWJ8IrAn3b",
        "colab_type": "code",
        "colab": {}
      },
      "source": [
        "df_UNI.head()"
      ],
      "execution_count": 0,
      "outputs": []
    },
    {
      "cell_type": "code",
      "metadata": {
        "id": "xaujVUTQTyDR",
        "colab_type": "code",
        "colab": {}
      },
      "source": [
        "df_LAB.shape"
      ],
      "execution_count": 0,
      "outputs": []
    },
    {
      "cell_type": "code",
      "metadata": {
        "id": "350aIaBsbr6-",
        "colab_type": "code",
        "colab": {}
      },
      "source": [
        "df_CF.mean()"
      ],
      "execution_count": 0,
      "outputs": []
    },
    {
      "cell_type": "code",
      "metadata": {
        "id": "JR2TCYb-br-8",
        "colab_type": "code",
        "colab": {}
      },
      "source": [
        "df_UNI.mean()"
      ],
      "execution_count": 0,
      "outputs": []
    },
    {
      "cell_type": "code",
      "metadata": {
        "id": "G3_BP5MAbsCu",
        "colab_type": "code",
        "colab": {}
      },
      "source": [
        "df_LAB.mean()  "
      ],
      "execution_count": 0,
      "outputs": []
    },
    {
      "cell_type": "code",
      "metadata": {
        "id": "a36XXZvxbsGA",
        "colab_type": "code",
        "colab": {}
      },
      "source": [
        "df.mean()"
      ],
      "execution_count": 0,
      "outputs": []
    },
    {
      "cell_type": "code",
      "metadata": {
        "id": "7dVeJU4pVFFc",
        "colab_type": "code",
        "colab": {}
      },
      "source": [
        "df_CF.shape\n"
      ],
      "execution_count": 0,
      "outputs": []
    },
    {
      "cell_type": "code",
      "metadata": {
        "id": "Rp_T9w6OluYY",
        "colab_type": "code",
        "colab": {}
      },
      "source": [
        "# Equalize the data for df_CF in order to maintain data consistency amoung all 3 methods.\n",
        "dfgrp=  df_CF.sort_values(by=['needs_scroll'], ascending=False)\n",
        "\n",
        "dfgrp_CF= dfgrp.head(356)"
      ],
      "execution_count": 0,
      "outputs": []
    },
    {
      "cell_type": "code",
      "metadata": {
        "id": "Z_7DbaqJludZ",
        "colab_type": "code",
        "colab": {}
      },
      "source": [
        "dfgrp_CF.info()"
      ],
      "execution_count": 0,
      "outputs": []
    },
    {
      "cell_type": "code",
      "metadata": {
        "id": "Lbor2xu69hnf",
        "colab_type": "code",
        "colab": {}
      },
      "source": [
        ""
      ],
      "execution_count": 0,
      "outputs": []
    },
    {
      "cell_type": "code",
      "metadata": {
        "id": "hpZqsdRklul6",
        "colab_type": "code",
        "colab": {}
      },
      "source": [
        "# Equalize the data for df_CF in order to maintain data consistency amoung all 3 methods.\n",
        "dfgrp=  df_UNI.sort_values(by=['needs_scroll'], ascending=False)\n",
        "\n",
        "dfgrp_UNI= dfgrp.head(356)"
      ],
      "execution_count": 0,
      "outputs": []
    },
    {
      "cell_type": "code",
      "metadata": {
        "id": "JwAHh_7f9rM0",
        "colab_type": "code",
        "colab": {}
      },
      "source": [
        "dfgrp_UNI.mean()"
      ],
      "execution_count": 0,
      "outputs": []
    },
    {
      "cell_type": "code",
      "metadata": {
        "id": "6DiDK_bjluiN",
        "colab_type": "code",
        "colab": {}
      },
      "source": [
        "dfgrp_CF.mean()"
      ],
      "execution_count": 0,
      "outputs": []
    },
    {
      "cell_type": "code",
      "metadata": {
        "id": "y0Fl1jtl9rPm",
        "colab_type": "code",
        "colab": {}
      },
      "source": [
        "df_LAB.mean()"
      ],
      "execution_count": 0,
      "outputs": []
    },
    {
      "cell_type": "code",
      "metadata": {
        "id": "UZMZbKjY9rTD",
        "colab_type": "code",
        "colab": {}
      },
      "source": [
        "df_LABR= df_LAB.loc[df_LAB['needs_scroll'] == 0]\n",
        "df_LABR"
      ],
      "execution_count": 0,
      "outputs": []
    },
    {
      "cell_type": "code",
      "metadata": {
        "id": "gmuX3Uxa9rWZ",
        "colab_type": "code",
        "colab": {}
      },
      "source": [
        "df_LAB= df_LAB.drop(df_LABR.index)"
      ],
      "execution_count": 0,
      "outputs": []
    },
    {
      "cell_type": "code",
      "metadata": {
        "id": "vDR3mIqbuY_c",
        "colab_type": "code",
        "colab": {}
      },
      "source": [
        "df_LAB.shape"
      ],
      "execution_count": 0,
      "outputs": []
    },
    {
      "cell_type": "code",
      "metadata": {
        "id": "6ETEYbwPrmUO",
        "colab_type": "code",
        "colab": {}
      },
      "source": [
        "df_LAB.mean()"
      ],
      "execution_count": 0,
      "outputs": []
    },
    {
      "cell_type": "code",
      "metadata": {
        "id": "KepZojrBuZD3",
        "colab_type": "code",
        "colab": {}
      },
      "source": [
        "dfgrp_CF.mean()"
      ],
      "execution_count": 0,
      "outputs": []
    },
    {
      "cell_type": "code",
      "metadata": {
        "id": "S1GEkQpNuZIA",
        "colab_type": "code",
        "colab": {}
      },
      "source": [
        "dfgrp_UNI.mean()"
      ],
      "execution_count": 0,
      "outputs": []
    },
    {
      "cell_type": "code",
      "metadata": {
        "id": "2qJxFM7KP7SC",
        "colab_type": "code",
        "colab": {}
      },
      "source": [
        "# Calculated precision values which equal mean calc.\n",
        "dfcount=dfgrp_UNI.loc[dfgrp_UNI['rate'] == 1]\n",
        "dfgrp_UNI.info()"
      ],
      "execution_count": 0,
      "outputs": []
    },
    {
      "cell_type": "code",
      "metadata": {
        "id": "mf9UQXa5M-2C",
        "colab_type": "code",
        "colab": {}
      },
      "source": [
        "dfgrp_UNI.describe()"
      ],
      "execution_count": 0,
      "outputs": []
    },
    {
      "cell_type": "code",
      "metadata": {
        "id": "eSpcWEULP7XQ",
        "colab_type": "code",
        "colab": {}
      },
      "source": [
        ""
      ],
      "execution_count": 0,
      "outputs": []
    },
    {
      "cell_type": "code",
      "metadata": {
        "id": "I12bhhQxP7bP",
        "colab_type": "code",
        "colab": {}
      },
      "source": [
        ""
      ],
      "execution_count": 0,
      "outputs": []
    },
    {
      "cell_type": "code",
      "metadata": {
        "id": "HUzNwwo5pxMC",
        "colab_type": "code",
        "colab": {}
      },
      "source": [
        "status = ('Lab', 'CF', 'uni')\n",
        "y_pos = np.arange(len(status))\n",
        "co_lab= df_LAB.rate.mean()\n",
        "co_cf= dfgrp_CF.rate.mean()\n",
        "co_uni= dfgrp_UNI.rate.mean()\n",
        "numbers = [co_lab, co_cf, co_uni]\n",
        "plt.bar(y_pos, numbers, align='center', color='b')\n",
        "plt.xticks(y_pos, status)\n",
        "plt.ylabel('Count')\n",
        "plt.title('Comparison of rate')\n",
        "plt.show()"
      ],
      "execution_count": 0,
      "outputs": []
    },
    {
      "cell_type": "code",
      "metadata": {
        "id": "quWUPN_GpxWT",
        "colab_type": "code",
        "colab": {}
      },
      "source": [
        "status = ('Lab', 'CF', 'uni')\n",
        "y_pos = np.arange(len(status))\n",
        "co_lab= df_LAB.time.mean()\n",
        "co_cf= dfgrp_CF.time.mean()\n",
        "co_uni= dfgrp_UNI.time.mean()\n",
        "numbers = [co_lab, co_cf, co_uni]\n",
        "plt.bar(y_pos, numbers, align='center', color='g')\n",
        "plt.xticks(y_pos, status)\n",
        "plt.ylabel('Count')\n",
        "plt.title('Comparison of time')\n",
        "plt.show()\n",
        "# mostly the lab is high due to a more of a regid environment, that the users actually take more in pondering about their decisions."
      ],
      "execution_count": 0,
      "outputs": []
    },
    {
      "cell_type": "code",
      "metadata": {
        "id": "YRJVv7tzuZN8",
        "colab_type": "code",
        "colab": {}
      },
      "source": [
        "status = ('Lab', 'CF', 'uni')\n",
        "y_pos = np.arange(len(status))\n",
        "co_lab= df_LAB.document_missed.mean()\n",
        "co_cf= dfgrp_CF.document_missed.mean()\n",
        "co_uni= dfgrp_UNI.document_missed.mean()\n",
        "numbers = [co_lab, co_cf, co_uni]\n",
        "plt.bar(y_pos, numbers, align='center', color='r')\n",
        "plt.xticks(y_pos, status)\n",
        "plt.ylabel('Count')\n",
        "plt.title('Comparison of document missed')\n",
        "plt.show()"
      ],
      "execution_count": 0,
      "outputs": []
    },
    {
      "cell_type": "code",
      "metadata": {
        "id": "izzd99fnUTtP",
        "colab_type": "code",
        "colab": {}
      },
      "source": [
        ""
      ],
      "execution_count": 0,
      "outputs": []
    },
    {
      "cell_type": "code",
      "metadata": {
        "id": "9IbdJtDiUTwj",
        "colab_type": "code",
        "colab": {}
      },
      "source": [
        "# CODE FROM: https://www.weirdgeek.com/2018/11/plotting-multiple-bar-graph/\n",
        "var1= [df_LAB.time.mean(),dfgrp_CF.time.mean(), dfgrp_UNI.time.mean()]  # RED #  \n",
        "var2= [df_LAB.rate.mean(), dfgrp_CF.rate.mean(), dfgrp_UNI.rate.mean()] # BLUE #  \n",
        "x = np.arange(3)\n",
        "fig = plt.figure(figsize=(15,10)) \n",
        "ax1 = fig.subplots()\n",
        "w = 0.3\n",
        "#plt.xticks(), will label the bars on x axis with the respective country names.\n",
        "plt.xticks(x + w /2, ('LAB', 'CF', 'UNI'), rotation='vertical')\n",
        "pop =ax1.bar(x, var2, width=w, color='b', align='center')\n",
        "#The trick is to use two different axes that share the same x axis, we have used ax1.twinx() method.\n",
        "ax2 = ax1.twinx()\n",
        "#We have calculated GDP by dividing gdpPerCapita to population.\n",
        "gdp =ax2.bar(x + w, var1, width=w,color='g',align='center')\n",
        "#Set the Y axis label as GDP.\n",
        "plt.ylabel('Milliseconds (ms)')\n",
        "#To set the legend on the plot we have used plt.legend()\n",
        "plt.legend([pop, gdp],['precison rate', 'time'])\n",
        "#To show the plot finally we have used plt.show().\n",
        "plt.title('Comparison of Rate and time')\n",
        "plt.show()"
      ],
      "execution_count": 0,
      "outputs": []
    },
    {
      "cell_type": "code",
      "metadata": {
        "id": "Jh7AV8QvUTzd",
        "colab_type": "code",
        "colab": {}
      },
      "source": [
        ""
      ],
      "execution_count": 0,
      "outputs": []
    },
    {
      "cell_type": "code",
      "metadata": {
        "id": "w7S5hW0Ipxd-",
        "colab_type": "code",
        "colab": {}
      },
      "source": [
        "var2= [df_LAB.document_missed.mean(),dfgrp_CF.document_missed.mean(), dfgrp_UNI.document_missed.mean()]  # RED #  \n",
        "var1= [df_LAB.rate.mean(), dfgrp_CF.rate.mean(), dfgrp_UNI.rate.mean()] # BLUE #  \n",
        "X = np.arange(3)\n",
        "width = 0.20\n",
        "fig = plt.figure(figsize=(10,10)) \n",
        "\n",
        "ax = fig.subplots()\n",
        "ax.bar(X, var2, width, color='red', label=\"document_missed\")\n",
        "ax.bar(X+width, var1, width, color='blue', label=\"precision rate\")\n",
        "ax.set_xticks(X+.8*width)\n",
        "ax.set_xticklabels(('LAB', 'CF', 'UNI')) \n",
        "plt.title('Comparison of document missed and rate')\n",
        "plt.legend()\n",
        "plt.show()"
      ],
      "execution_count": 0,
      "outputs": []
    },
    {
      "cell_type": "code",
      "metadata": {
        "id": "Mf3olxUsly9F",
        "colab_type": "code",
        "colab": {}
      },
      "source": [
        "# CODE FROM: https://www.weirdgeek.com/2018/11/plotting-multiple-bar-graph/\n",
        "x = np.arange(3)\n",
        "fig = plt.figure(figsize=(15,10)) \n",
        "ax1 = fig.subplots()\n",
        "w = 0.3\n",
        "var2= [df_LAB.document_missed.mean(),dfgrp_CF.document_missed.mean(), dfgrp_UNI.document_missed.mean()]  # RED #  \n",
        "var1= [df_LAB.time.mean(), dfgrp_CF.time.mean(), dfgrp_UNI.time.mean()] \n",
        "#plt.xticks(), will label the bars on x axis with the respective country names.\n",
        "plt.xticks(x + w /2, ('LAB', 'CF', 'UNI'), rotation='vertical')\n",
        "pop =ax1.bar(x, var2, width=w, color='r', align='center')\n",
        "#The trick is to use two different axes that share the same x axis, we have used ax1.twinx() method.\n",
        "ax2 = ax1.twinx()\n",
        "#We have calculated GDP by dividing gdpPerCapita to population.\n",
        "gdp =ax2.bar(x + w, var1, width=w,color='g',align='center')\n",
        "#Set the Y axis label as GDP.\n",
        "plt.ylabel('Milliseconds (ms)')\n",
        "#To set the legend on the plot we have used plt.legend()\n",
        "plt.legend([pop, gdp],['Document missed', 'time'])\n",
        "#To show the plot finally we have used plt.show().\n",
        "plt.title('Comparison of document missed and time')\n",
        "plt.show()"
      ],
      "execution_count": 0,
      "outputs": []
    },
    {
      "cell_type": "code",
      "metadata": {
        "id": "T99cSG0-lzPq",
        "colab_type": "code",
        "colab": {}
      },
      "source": [
        ""
      ],
      "execution_count": 0,
      "outputs": []
    },
    {
      "cell_type": "code",
      "metadata": {
        "id": "c3K-pCEpOP0z",
        "colab_type": "code",
        "colab": {}
      },
      "source": [
        "### Measuring correlation ###"
      ],
      "execution_count": 0,
      "outputs": []
    },
    {
      "cell_type": "code",
      "metadata": {
        "id": "XhTtr4woyyhF",
        "colab_type": "code",
        "colab": {}
      },
      "source": [
        "correlation = df_LAB.rate.corr(df_LAB.document_missed, method=\"pearson\")\n",
        "correlation"
      ],
      "execution_count": 0,
      "outputs": []
    },
    {
      "cell_type": "code",
      "metadata": {
        "id": "bLFG9pMiyypw",
        "colab_type": "code",
        "colab": {}
      },
      "source": [
        "correlation = dfgrp_CF.rate.corr(dfgrp_CF.document_missed, method=\"pearson\")\n",
        "correlation"
      ],
      "execution_count": 0,
      "outputs": []
    },
    {
      "cell_type": "code",
      "metadata": {
        "id": "i41LT9pjyytZ",
        "colab_type": "code",
        "colab": {}
      },
      "source": [
        "correlation = dfgrp_UNI.rate.corr(dfgrp_UNI.document_missed, method=\"pearson\")\n",
        "correlation"
      ],
      "execution_count": 0,
      "outputs": []
    },
    {
      "cell_type": "code",
      "metadata": {
        "id": "iMrcNLHJ47h0",
        "colab_type": "code",
        "colab": {}
      },
      "source": [
        "df_LAB.corr()"
      ],
      "execution_count": 0,
      "outputs": []
    },
    {
      "cell_type": "code",
      "metadata": {
        "id": "tGhsCX-d5LTj",
        "colab_type": "code",
        "colab": {}
      },
      "source": [
        "dfgrp_CF.corr()"
      ],
      "execution_count": 0,
      "outputs": []
    },
    {
      "cell_type": "code",
      "metadata": {
        "id": "Zyt9q6H25Svf",
        "colab_type": "code",
        "colab": {}
      },
      "source": [
        "dfgrp_UNI.corr()"
      ],
      "execution_count": 0,
      "outputs": []
    }
  ]
}