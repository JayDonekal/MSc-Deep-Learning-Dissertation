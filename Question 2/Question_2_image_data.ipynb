{
  "nbformat": 4,
  "nbformat_minor": 0,
  "metadata": {
    "colab": {
      "name": "Question 2 - image data.ipynb",
      "version": "0.3.2",
      "provenance": [],
      "collapsed_sections": []
    },
    "kernelspec": {
      "name": "python3",
      "display_name": "Python 3"
    }
  },
  "cells": [
    {
      "cell_type": "code",
      "metadata": {
        "id": "aj3R_o9JMAkH",
        "colab_type": "code",
        "colab": {}
      },
      "source": [
        "import pandas as pd\n",
        "import matplotlib.pyplot as plt\n",
        "import seaborn as sns\n",
        "import numpy as np\n",
        "import warnings\n",
        "from matplotlib.pyplot import figure \n",
        "from sklearn import cluster\n",
        "from sklearn import metrics\n",
        "from sklearn.preprocessing import scale\n",
        "pd.set_option('display.precision',3)\n",
        "warnings.filterwarnings('ignore')\n",
        "pd.options.display.max_rows = 300\n",
        "pd.options.display.float_format = '{:20,.2f}'.format"
      ],
      "execution_count": 0,
      "outputs": []
    },
    {
      "cell_type": "code",
      "metadata": {
        "id": "4WUxF0CerlpD",
        "colab_type": "code",
        "colab": {}
      },
      "source": [
        "#### Replaceable code ##### \n",
        "# df1=pd.read_csv('cf-results1.csv')\n",
        "# df2=pd.read_csv('orig-results1.csv')"
      ],
      "execution_count": 0,
      "outputs": []
    },
    {
      "cell_type": "code",
      "metadata": {
        "id": "SO_k2FjuMO32",
        "colab_type": "code",
        "colab": {}
      },
      "source": [
        "######## The code below is mainly used for executing in google colabs - pls replace the google colabs code with the commented code above if required###########\n",
        "\n",
        "##### Start of google colabs code ############\n",
        "from google.colab import drive\n",
        "drive.mount('/content/drive')"
      ],
      "execution_count": 0,
      "outputs": []
    },
    {
      "cell_type": "code",
      "metadata": {
        "id": "OItjUSnxMO7Q",
        "colab_type": "code",
        "colab": {}
      },
      "source": [
        "## Upload cf-results1.csv file ##\n",
        "from google.colab import files\n",
        "\n",
        "uploaded = files.upload()\n"
      ],
      "execution_count": 0,
      "outputs": []
    },
    {
      "cell_type": "code",
      "metadata": {
        "id": "EZZ8JETUMO-E",
        "colab_type": "code",
        "colab": {}
      },
      "source": [
        "uploaded"
      ],
      "execution_count": 0,
      "outputs": []
    },
    {
      "cell_type": "code",
      "metadata": {
        "id": "4fQVU2bCMPA4",
        "colab_type": "code",
        "colab": {}
      },
      "source": [
        "import pandas as pd\n",
        "import io\n",
        "df1 = pd.read_csv(io.StringIO(uploaded['cf-results1.csv'].decode('utf-8')))\n",
        "print(df1)"
      ],
      "execution_count": 0,
      "outputs": []
    },
    {
      "cell_type": "code",
      "metadata": {
        "id": "oygPcxNG_NTQ",
        "colab_type": "code",
        "colab": {}
      },
      "source": [
        "df1.columns"
      ],
      "execution_count": 0,
      "outputs": []
    },
    {
      "cell_type": "code",
      "metadata": {
        "id": "ahnoZuA3MPEB",
        "colab_type": "code",
        "colab": {}
      },
      "source": [
        "## Upload orig-results1.csv file ##\n",
        "uploaded2 = files.upload()"
      ],
      "execution_count": 0,
      "outputs": []
    },
    {
      "cell_type": "code",
      "metadata": {
        "id": "kU2YkoVUMPHJ",
        "colab_type": "code",
        "colab": {}
      },
      "source": [
        "uploaded2"
      ],
      "execution_count": 0,
      "outputs": []
    },
    {
      "cell_type": "code",
      "metadata": {
        "id": "Vpo_9-4OMPKi",
        "colab_type": "code",
        "colab": {}
      },
      "source": [
        "import pandas as pd\n",
        "import io\n",
        "df2 = pd.read_csv(io.StringIO(uploaded2['orig-results1.csv'].decode('utf-8')))\n",
        "print(df2)"
      ],
      "execution_count": 0,
      "outputs": []
    },
    {
      "cell_type": "code",
      "metadata": {
        "id": "0Llp8y8Vr4_V",
        "colab_type": "code",
        "colab": {}
      },
      "source": [
        "## End of google colabs code ####"
      ],
      "execution_count": 0,
      "outputs": []
    },
    {
      "cell_type": "code",
      "metadata": {
        "id": "aOEaJr3Br5Th",
        "colab_type": "code",
        "colab": {}
      },
      "source": [
        ""
      ],
      "execution_count": 0,
      "outputs": []
    },
    {
      "cell_type": "code",
      "metadata": {
        "id": "5JWNRAKUMPXW",
        "colab_type": "code",
        "colab": {}
      },
      "source": [
        "df1=df1.iloc[:, [5,6,11,12,13,14,15,16,18,20,21]]\n",
        "df1"
      ],
      "execution_count": 0,
      "outputs": []
    },
    {
      "cell_type": "code",
      "metadata": {
        "id": "8RN9wwsg7Liq",
        "colab_type": "code",
        "colab": {}
      },
      "source": [
        ""
      ],
      "execution_count": 0,
      "outputs": []
    },
    {
      "cell_type": "code",
      "metadata": {
        "id": "zqOaMkXfMPaa",
        "colab_type": "code",
        "colab": {}
      },
      "source": [
        "df2=df2.iloc[:, [5,6,11,14,15,16,17,18,19,20,21]]\n",
        "df2"
      ],
      "execution_count": 0,
      "outputs": []
    },
    {
      "cell_type": "code",
      "metadata": {
        "id": "wzTA5dnqMPgx",
        "colab_type": "code",
        "colab": {}
      },
      "source": [
        "columnsTitles = [\t'EDUCATION',\t'GLASSES',\t'mental',\t'physical',\t'temp',\t'perf',\t'effort',\t'frust',\t'TREL',\t'urel',\t'time']\n",
        "df2 = df2.reindex(columns=columnsTitles)"
      ],
      "execution_count": 0,
      "outputs": []
    },
    {
      "cell_type": "code",
      "metadata": {
        "id": "OieqQQt9MPjy",
        "colab_type": "code",
        "colab": {}
      },
      "source": [
        "df2"
      ],
      "execution_count": 0,
      "outputs": []
    },
    {
      "cell_type": "code",
      "metadata": {
        "id": "tGrEW0w-MPnD",
        "colab_type": "code",
        "colab": {}
      },
      "source": [
        "df = pd.concat([df1,df2])\n",
        "df= df.reset_index(drop=True)\n",
        "df"
      ],
      "execution_count": 0,
      "outputs": []
    },
    {
      "cell_type": "code",
      "metadata": {
        "id": "MwpulsZNnWh-",
        "colab_type": "code",
        "colab": {}
      },
      "source": [
        "df.loc[df['TREL'] == df['urel'], 'rate'] = 1\n",
        "df.loc[df['TREL'] != df['urel'], 'rate'] = 0\n"
      ],
      "execution_count": 0,
      "outputs": []
    },
    {
      "cell_type": "code",
      "metadata": {
        "id": "_Ufj6jw_nWqS",
        "colab_type": "code",
        "colab": {}
      },
      "source": [
        "df.head()"
      ],
      "execution_count": 0,
      "outputs": []
    },
    {
      "cell_type": "code",
      "metadata": {
        "id": "xlccNKjF_pw4",
        "colab_type": "code",
        "colab": {}
      },
      "source": [
        "df_null=df.isnull().T.sum() #checking the rows with max NAN values\n",
        "df_null=df_null.reset_index(name='val')\n",
        "df_null"
      ],
      "execution_count": 0,
      "outputs": []
    },
    {
      "cell_type": "code",
      "metadata": {
        "id": "kXAWAYaznWt-",
        "colab_type": "code",
        "colab": {}
      },
      "source": [
        "df_null.index[df_null['val'] > 0 ].tolist()"
      ],
      "execution_count": 0,
      "outputs": []
    },
    {
      "cell_type": "code",
      "metadata": {
        "id": "46h94XBoXbHE",
        "colab_type": "code",
        "colab": {}
      },
      "source": [
        "df= df.drop([6996,6997,6998, 6999,7000, 7001, 7002, 7003, 7004, 7005, 7006,7007, 7008, 7009, 7010, 7011, 7012, 7013, 7014, 7015, 7016, 7017, 7018, 7019, 7020, 7021, 7022, 7023, 7024, 7025, 7026, 7027, 7028, 7029, 7030, 7031, 7032, 7033, 7034, 7035, 7036, 7037, 7038, 7039, 7040, 7041, 7042, 7043, 7044, 7045, 7046, 7047, 7048, 7049, 7050, 7051, 7052, 7053, 7054, 7055, 7056, 7057,7058,7059,7060,7061,9300,9301,9302,9303,9304,9305])"
      ],
      "execution_count": 0,
      "outputs": []
    },
    {
      "cell_type": "code",
      "metadata": {
        "id": "aJmwdX3VXbWq",
        "colab_type": "code",
        "colab": {}
      },
      "source": [
        "df= df.reset_index(drop=True)\n",
        "df.tail()"
      ],
      "execution_count": 0,
      "outputs": []
    },
    {
      "cell_type": "code",
      "metadata": {
        "id": "FLC8pq4hMPp3",
        "colab_type": "code",
        "colab": {}
      },
      "source": [
        ""
      ],
      "execution_count": 0,
      "outputs": []
    },
    {
      "cell_type": "code",
      "metadata": {
        "id": "c3cdje2cMPs7",
        "colab_type": "code",
        "colab": {}
      },
      "source": [
        "df.EDUCATION.describe()"
      ],
      "execution_count": 0,
      "outputs": []
    },
    {
      "cell_type": "code",
      "metadata": {
        "id": "8lrGs8z0MPvc",
        "colab_type": "code",
        "colab": {}
      },
      "source": [
        "df.EDUCATION.unique()"
      ],
      "execution_count": 0,
      "outputs": []
    },
    {
      "cell_type": "code",
      "metadata": {
        "id": "tUzvsPHHjqKf",
        "colab_type": "code",
        "colab": {}
      },
      "source": [
        "test= df.loc[df['EDUCATION'] == \"pg\"]\n",
        "test"
      ],
      "execution_count": 0,
      "outputs": []
    },
    {
      "cell_type": "code",
      "metadata": {
        "id": "LxTMaBcTjqNW",
        "colab_type": "code",
        "colab": {}
      },
      "source": [
        "test.info()"
      ],
      "execution_count": 0,
      "outputs": []
    },
    {
      "cell_type": "code",
      "metadata": {
        "id": "xDZEgYRMjqQn",
        "colab_type": "code",
        "colab": {}
      },
      "source": [
        "test.loc[test['rate'] == 0].info()"
      ],
      "execution_count": 0,
      "outputs": []
    },
    {
      "cell_type": "code",
      "metadata": {
        "id": "oJPAReIOdVWM",
        "colab_type": "code",
        "colab": {}
      },
      "source": [
        "###### Comparison of Rate ##########"
      ],
      "execution_count": 0,
      "outputs": []
    },
    {
      "cell_type": "code",
      "metadata": {
        "id": "kVzwtyU-jqTI",
        "colab_type": "code",
        "colab": {}
      },
      "source": [
        "test_mean=test.rate.mean()\n",
        "test_mean"
      ],
      "execution_count": 0,
      "outputs": []
    },
    {
      "cell_type": "code",
      "metadata": {
        "id": "mPs1g7RWp7Gx",
        "colab_type": "code",
        "colab": {}
      },
      "source": [
        "test1= df.loc[df['EDUCATION'] == \"ug\"]\n",
        "test1_mean=test1.rate.mean()\n",
        "test1_mean"
      ],
      "execution_count": 0,
      "outputs": []
    },
    {
      "cell_type": "code",
      "metadata": {
        "id": "HKpayjmBjqbZ",
        "colab_type": "code",
        "colab": {}
      },
      "source": [
        "test2= df.loc[df['EDUCATION'] == \"staff\"]\n",
        "test2_mean=test2.rate.mean()\n",
        "test2_mean"
      ],
      "execution_count": 0,
      "outputs": []
    },
    {
      "cell_type": "code",
      "metadata": {
        "id": "0AMoEN6Vjqe-",
        "colab_type": "code",
        "colab": {}
      },
      "source": [
        "test3= df.loc[df['EDUCATION'] == \"nodegree\"]\n",
        "test3_mean=test3.rate.mean()\n",
        "test3_mean"
      ],
      "execution_count": 0,
      "outputs": []
    },
    {
      "cell_type": "code",
      "metadata": {
        "id": "gtaXoHZ7jqZL",
        "colab_type": "code",
        "colab": {}
      },
      "source": [
        "status = ('pg', 'ug', 'staff', 'nodegree')\n",
        "y_pos = np.arange(len(status))\n",
        "vari1 = [test_mean, test1_mean, test2_mean, test3_mean]\n",
        "plt.bar(y_pos, numbers, align='center', color='b')\n",
        "plt.xticks(y_pos, status)\n",
        "plt.ylabel('Mean')\n",
        "plt.title('Comparison of rate for Image')\n",
        "plt.show()"
      ],
      "execution_count": 0,
      "outputs": []
    },
    {
      "cell_type": "code",
      "metadata": {
        "id": "G1kfbSBWjqw7",
        "colab_type": "code",
        "colab": {}
      },
      "source": [
        ""
      ],
      "execution_count": 0,
      "outputs": []
    },
    {
      "cell_type": "code",
      "metadata": {
        "id": "Cou85iLpjqz6",
        "colab_type": "code",
        "colab": {}
      },
      "source": [
        "###### Comparison of Time ##########"
      ],
      "execution_count": 0,
      "outputs": []
    },
    {
      "cell_type": "code",
      "metadata": {
        "id": "R8Vs8eZ7jq2L",
        "colab_type": "code",
        "colab": {}
      },
      "source": [
        "Time= df.loc[df['EDUCATION'] == \"pg\"]\n",
        "Time_mean=Time.time.mean()\n",
        "Time_mean"
      ],
      "execution_count": 0,
      "outputs": []
    },
    {
      "cell_type": "code",
      "metadata": {
        "id": "SggnIttEjrBX",
        "colab_type": "code",
        "colab": {}
      },
      "source": [
        "Time1= df.loc[df['EDUCATION'] == \"ug\"]\n",
        "Time1_mean=Time1.time.mean()\n",
        "Time1_mean"
      ],
      "execution_count": 0,
      "outputs": []
    },
    {
      "cell_type": "code",
      "metadata": {
        "id": "XJvS9bUDdvJt",
        "colab_type": "code",
        "colab": {}
      },
      "source": [
        "Time2= df.loc[df['EDUCATION'] == \"staff\"]\n",
        "Time2_mean=Time2.time.mean()\n",
        "Time2_mean"
      ],
      "execution_count": 0,
      "outputs": []
    },
    {
      "cell_type": "code",
      "metadata": {
        "id": "YuEj9cUHdvO1",
        "colab_type": "code",
        "colab": {}
      },
      "source": [
        "Time3= df.loc[df['EDUCATION'] == \"nodegree\"]\n",
        "Time3_mean=Time3.time.mean()\n",
        "Time3_mean"
      ],
      "execution_count": 0,
      "outputs": []
    },
    {
      "cell_type": "code",
      "metadata": {
        "id": "nfa9yCNMdvT8",
        "colab_type": "code",
        "colab": {}
      },
      "source": [
        "status = ('pg', 'ug', 'staff', 'nodegree')\n",
        "y_pos = np.arange(len(status))\n",
        "vari1 = [Time_mean, Time1_mean, Time2_mean, Time3_mean]\n",
        "plt.bar(y_pos, numbers, align='center', color='g')\n",
        "plt.xticks(y_pos, status)\n",
        "plt.ylabel('Mean')\n",
        "plt.title('Comparison of time for Image')\n",
        "plt.show()"
      ],
      "execution_count": 0,
      "outputs": []
    },
    {
      "cell_type": "code",
      "metadata": {
        "id": "vYVn2lkydvYW",
        "colab_type": "code",
        "colab": {}
      },
      "source": [
        ""
      ],
      "execution_count": 0,
      "outputs": []
    },
    {
      "cell_type": "code",
      "metadata": {
        "id": "puAVcqA4BcUt",
        "colab_type": "code",
        "colab": {}
      },
      "source": [
        "Time1= df.loc[df['EDUCATION'] == \"ug\"]\n",
        "Time1_mean=Time1.time.mean()\n",
        "Time1_mean"
      ],
      "execution_count": 0,
      "outputs": []
    },
    {
      "cell_type": "code",
      "metadata": {
        "id": "BSwjk8iFBcZA",
        "colab_type": "code",
        "colab": {}
      },
      "source": [
        "Time1= df.loc[df['EDUCATION'] == \"ug\"]\n",
        "Time1_mean=Time1.time.mean()\n",
        "Time1_mean"
      ],
      "execution_count": 0,
      "outputs": []
    },
    {
      "cell_type": "code",
      "metadata": {
        "id": "OK94-7IlBcdO",
        "colab_type": "code",
        "colab": {}
      },
      "source": [
        "Time1= df.loc[df['EDUCATION'] == \"ug\"]\n",
        "Time1_mean=Time1.time.mean()\n",
        "Time1_mean"
      ],
      "execution_count": 0,
      "outputs": []
    },
    {
      "cell_type": "code",
      "metadata": {
        "id": "reSe1gTSBchW",
        "colab_type": "code",
        "colab": {}
      },
      "source": [
        "Time1= df.loc[df['EDUCATION'] == \"ug\"]\n",
        "Time1_mean=Time1.time.mean()\n",
        "Time1_mean"
      ],
      "execution_count": 0,
      "outputs": []
    },
    {
      "cell_type": "code",
      "metadata": {
        "id": "zxp5TgHPBclf",
        "colab_type": "code",
        "colab": {}
      },
      "source": [
        ""
      ],
      "execution_count": 0,
      "outputs": []
    },
    {
      "cell_type": "code",
      "metadata": {
        "id": "AwOMPq_GdvdS",
        "colab_type": "code",
        "colab": {}
      },
      "source": [
        "var1= [Time_mean, Time1_mean, Time2_mean, Time3_mean]  # RED #  \n",
        "var2= [test_mean, test1_mean, test2_mean, test3_mean] # BLUE #  \n",
        "# CODE FROM: https://www.weirdgeek.com/2018/11/plotting-multiple-bar-graph/\n",
        "x = np.arange(4)\n",
        "fig = plt.figure(figsize=(15,10)) \n",
        "ax1 = fig.subplots()\n",
        "w = 0.3\n",
        "#plt.xticks(), will label the bars on x axis with the respective country names.\n",
        "plt.xticks(x + w /2, ('pg', 'ug', 'staff', 'nodegree'), rotation='vertical')\n",
        "pop =ax1.bar(x, var2, width=w, color='b', align='center')\n",
        "#The trick is to use two different axes that share the same x axis, we have used ax1.twinx() method.\n",
        "ax2 = ax1.twinx()\n",
        "#We have calculated GDP by dividing gdpPerCapita to population.\n",
        "gdp =ax2.bar(x + w, var1, width=w,color='g',align='center')\n",
        "#Set the Y axis label as GDP.\n",
        "plt.ylabel('Milliseconds (ms)')\n",
        "#To set the legend on the plot we have used plt.legend()\n",
        "plt.legend([pop, gdp],['precison rate', 'time'])\n",
        "#To show the plot finally we have used plt.show().\n",
        "plt.title('Comparison of time and rate for Image')\n",
        "plt.show()"
      ],
      "execution_count": 0,
      "outputs": []
    },
    {
      "cell_type": "code",
      "metadata": {
        "id": "PlGlgu1I1_mR",
        "colab_type": "code",
        "colab": {}
      },
      "source": [
        ""
      ],
      "execution_count": 0,
      "outputs": []
    },
    {
      "cell_type": "code",
      "metadata": {
        "id": "JAjffiIXybDO",
        "colab_type": "code",
        "colab": {}
      },
      "source": [
        "##### Comparison of user behaviours ###########"
      ],
      "execution_count": 0,
      "outputs": []
    },
    {
      "cell_type": "code",
      "metadata": {
        "id": "1EkfAS0b1_rd",
        "colab_type": "code",
        "colab": {}
      },
      "source": [
        "frust= df.loc[df['EDUCATION'] == \"pg\"]\n",
        "frust_mean=frust.frust.mean()\n",
        "print(frust_mean)\n",
        "\n",
        "frust1= df.loc[df['EDUCATION'] == \"ug\"]\n",
        "frust1_mean=frust1.frust.mean()\n",
        "print(frust1_mean)\n",
        "\n",
        "frust2= df.loc[df['EDUCATION'] == \"staff\"]\n",
        "frust2_mean=frust2.frust.mean()\n",
        "print(frust2_mean)\n",
        "\n",
        "frust3= df.loc[df['EDUCATION'] == \"nodegree\"]\n",
        "frust3_mean=frust3.frust.mean()\n",
        "print(frust3_mean)\n"
      ],
      "execution_count": 0,
      "outputs": []
    },
    {
      "cell_type": "code",
      "metadata": {
        "id": "WutjLGdaDj8d",
        "colab_type": "code",
        "colab": {}
      },
      "source": [
        "phy= df.loc[df['EDUCATION'] == \"pg\"]\n",
        "phy_mean=phy.physical.mean()\n",
        "print(phy_mean)\n",
        "\n",
        "phy1= df.loc[df['EDUCATION'] == \"ug\"]\n",
        "phy1_mean=phy1.physical.mean()\n",
        "print(phy1_mean)\n",
        "\n",
        "phy2= df.loc[df['EDUCATION'] == \"staff\"]\n",
        "phy2_mean=phy2.physical.mean()\n",
        "print(phy2_mean)\n",
        "\n",
        "phy3= df.loc[df['EDUCATION'] == \"nodegree\"]\n",
        "phy3_mean=phy3.physical.mean()\n",
        "print(phy3_mean)\n"
      ],
      "execution_count": 0,
      "outputs": []
    },
    {
      "cell_type": "code",
      "metadata": {
        "id": "KJM9DHAPDj_s",
        "colab_type": "code",
        "colab": {}
      },
      "source": [
        "temp= df.loc[df['EDUCATION'] == \"pg\"]\n",
        "temp_mean=temp.temp.mean()\n",
        "print(temp_mean)\n",
        "\n",
        "temp1= df.loc[df['EDUCATION'] == \"ug\"]\n",
        "temp1_mean=temp1.temp.mean()\n",
        "print(temp1_mean)\n",
        "\n",
        "temp2= df.loc[df['EDUCATION'] == \"staff\"]\n",
        "temp2_mean=temp2.temp.mean()\n",
        "print(temp2_mean)\n",
        "\n",
        "temp3= df.loc[df['EDUCATION'] == \"nodegree\"]\n",
        "temp3_mean=temp3.temp.mean()\n",
        "print(temp3_mean)"
      ],
      "execution_count": 0,
      "outputs": []
    },
    {
      "cell_type": "code",
      "metadata": {
        "id": "AElWfES5DkDR",
        "colab_type": "code",
        "colab": {}
      },
      "source": [
        "ment= df.loc[df['EDUCATION'] == \"pg\"]\n",
        "ment_mean=ment.mental.mean()\n",
        "print(ment_mean)\n",
        "\n",
        "ment1= df.loc[df['EDUCATION'] == \"ug\"]\n",
        "ment1_mean=ment1.mental.mean()\n",
        "print(ment1_mean)\n",
        "\n",
        "ment2= df.loc[df['EDUCATION'] == \"staff\"]\n",
        "ment2_mean=ment2.mental.mean()\n",
        "print(ment2_mean)\n",
        "\n",
        "ment3= df.loc[df['EDUCATION'] == \"nodegree\"]\n",
        "ment3_mean=ment3.mental.mean()\n",
        "print(ment3_mean)"
      ],
      "execution_count": 0,
      "outputs": []
    },
    {
      "cell_type": "code",
      "metadata": {
        "id": "Pvnn4c6vdj6v",
        "colab_type": "code",
        "colab": {}
      },
      "source": [
        "perf= df.loc[df['EDUCATION'] == \"pg\"]\n",
        "perf_mean=perf.perf.mean()\n",
        "print(perf_mean)\n",
        "\n",
        "perf1= df.loc[df['EDUCATION'] == \"ug\"]\n",
        "perf1_mean=perf1.perf.mean()\n",
        "print(perf1_mean)\n",
        "\n",
        "perf2= df.loc[df['EDUCATION'] == \"staff\"]\n",
        "perf2_mean=perf2.perf.mean()\n",
        "print(perf2_mean)\n",
        "\n",
        "perf3= df.loc[df['EDUCATION'] == \"nodegree\"]\n",
        "perf3_mean=perf3.perf.mean()\n",
        "print(perf3_mean)"
      ],
      "execution_count": 0,
      "outputs": []
    },
    {
      "cell_type": "code",
      "metadata": {
        "id": "UpWvijrZdkKW",
        "colab_type": "code",
        "colab": {}
      },
      "source": [
        "eff= df.loc[df['EDUCATION'] == \"pg\"]\n",
        "eff_mean=eff.effort.mean()\n",
        "print(eff_mean)\n",
        "\n",
        "eff1= df.loc[df['EDUCATION'] == \"ug\"]\n",
        "eff1_mean=eff1.effort.mean()\n",
        "print(eff1_mean)\n",
        "\n",
        "eff2= df.loc[df['EDUCATION'] == \"staff\"]\n",
        "eff2_mean=eff2.effort.mean()\n",
        "print(eff2_mean)\n",
        "\n",
        "eff3= df.loc[df['EDUCATION'] == \"nodegree\"]\n",
        "eff3_mean=eff3.effort.mean()\n",
        "print(eff3_mean)"
      ],
      "execution_count": 0,
      "outputs": []
    },
    {
      "cell_type": "code",
      "metadata": {
        "id": "ivu8vBYydvht",
        "colab_type": "code",
        "colab": {}
      },
      "source": [
        "import matplotlib.pyplot as pyplot\n",
        "status = ('pg', 'ug', 'staff', 'nodegree')\n",
        "y_pos = np.arange(len(status))\n",
        "vari1 = [frust_mean, frust1_mean, frust2_mean, frust3_mean]\n",
        "vari2 = [phy_mean, phy1_mean, phy2_mean, phy3_mean]\n",
        "vari3 = [temp_mean, temp1_mean, temp2_mean, temp3_mean]\n",
        "vari4 = [ment_mean, ment1_mean, ment2_mean, ment3_mean]\n",
        "fig = pyplot.figure(figsize=(20,10))\n",
        "fig.suptitle('Bar Charts for behaviours', fontsize=16)\n",
        "pyplot.subplot(221)\n",
        "pyplot.bar(y_pos, vari1)\n",
        "pyplot.xticks(y_pos, status)\n",
        "pyplot.title('frust Bar Chart')\n",
        "pyplot.xlabel('mean')\n",
        "pyplot.ylabel('frust')\n",
        "pyplot.subplot(222)\n",
        "pyplot.bar(y_pos, vari2)\n",
        "pyplot.xticks(y_pos, status)\n",
        "pyplot.title('physical Bar Chart')\n",
        "pyplot.xlabel('mean')\n",
        "pyplot.ylabel('physical')\n",
        "pyplot.subplot(223)\n",
        "pyplot.bar(y_pos, vari3)\n",
        "pyplot.xticks(y_pos, status)\n",
        "pyplot.title('temp Bar Chart')\n",
        "pyplot.xlabel('mean')\n",
        "pyplot.ylabel('temp')\n",
        "pyplot.subplot(224)\n",
        "pyplot.bar(y_pos, vari4)\n",
        "pyplot.xticks(y_pos, status)\n",
        "pyplot.title('Mental Bar Chart')\n",
        "pyplot.xlabel('mean')\n",
        "pyplot.ylabel('mental')\n"
      ],
      "execution_count": 0,
      "outputs": []
    },
    {
      "cell_type": "code",
      "metadata": {
        "id": "U4yRbIii1_ub",
        "colab_type": "code",
        "colab": {}
      },
      "source": [
        "status = ('pg', 'ug', 'staff', 'nodegree')\n",
        "y_pos = np.arange(len(status))\n",
        "vari5 = [perf_mean, perf1_mean, perf2_mean, perf3_mean]\n",
        "vari6 = [eff_mean, eff1_mean, eff2_mean, eff3_mean]\n",
        "fig = pyplot.figure(figsize=(20,10))\n",
        "pyplot.subplot(221)\n",
        "pyplot.bar(y_pos, vari5)\n",
        "pyplot.xticks(y_pos, status)\n",
        "pyplot.title('perf Bar Chart')\n",
        "pyplot.xlabel('mean')\n",
        "pyplot.ylabel('perf')\n",
        "pyplot.subplot(222)\n",
        "pyplot.bar(y_pos, vari6)\n",
        "pyplot.xticks(y_pos, status)\n",
        "pyplot.title('effort Bar Chart')\n",
        "pyplot.xlabel('mean')\n",
        "pyplot.ylabel('perf')"
      ],
      "execution_count": 0,
      "outputs": []
    },
    {
      "cell_type": "code",
      "metadata": {
        "id": "GBVJ61dr1_zo",
        "colab_type": "code",
        "colab": {}
      },
      "source": [
        ""
      ],
      "execution_count": 0,
      "outputs": []
    },
    {
      "cell_type": "code",
      "metadata": {
        "id": "duZ-xuVa1_4W",
        "colab_type": "code",
        "colab": {}
      },
      "source": [
        ""
      ],
      "execution_count": 0,
      "outputs": []
    },
    {
      "cell_type": "code",
      "metadata": {
        "id": "YhQl0vU51_7W",
        "colab_type": "code",
        "colab": {}
      },
      "source": [
        ""
      ],
      "execution_count": 0,
      "outputs": []
    },
    {
      "cell_type": "code",
      "metadata": {
        "id": "yX96UMw12AAr",
        "colab_type": "code",
        "colab": {}
      },
      "source": [
        ""
      ],
      "execution_count": 0,
      "outputs": []
    },
    {
      "cell_type": "code",
      "metadata": {
        "id": "z_QeRfDt2ADX",
        "colab_type": "code",
        "colab": {}
      },
      "source": [
        ""
      ],
      "execution_count": 0,
      "outputs": []
    },
    {
      "cell_type": "code",
      "metadata": {
        "id": "MdsiZCBa2AHR",
        "colab_type": "code",
        "colab": {}
      },
      "source": [
        ""
      ],
      "execution_count": 0,
      "outputs": []
    },
    {
      "cell_type": "code",
      "metadata": {
        "id": "8vs70XY02AQY",
        "colab_type": "code",
        "colab": {}
      },
      "source": [
        ""
      ],
      "execution_count": 0,
      "outputs": []
    },
    {
      "cell_type": "code",
      "metadata": {
        "id": "dZXqwVHu2ATc",
        "colab_type": "code",
        "colab": {}
      },
      "source": [
        ""
      ],
      "execution_count": 0,
      "outputs": []
    },
    {
      "cell_type": "code",
      "metadata": {
        "id": "k9B6BOJ62AMz",
        "colab_type": "code",
        "colab": {}
      },
      "source": [
        ""
      ],
      "execution_count": 0,
      "outputs": []
    }
  ]
}