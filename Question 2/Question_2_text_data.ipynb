{
  "nbformat": 4,
  "nbformat_minor": 0,
  "metadata": {
    "colab": {
      "name": "Question 2 - text data.ipynb",
      "version": "0.3.2",
      "provenance": [],
      "collapsed_sections": []
    },
    "kernelspec": {
      "name": "python3",
      "display_name": "Python 3"
    }
  },
  "cells": [
    {
      "cell_type": "code",
      "metadata": {
        "id": "Zc8UDPH25fJo",
        "colab_type": "code",
        "colab": {}
      },
      "source": [
        "import pandas as pd\n",
        "import matplotlib.pyplot as plt\n",
        "import seaborn as sns\n",
        "import numpy as np\n",
        "import warnings\n",
        "from matplotlib.pyplot import figure \n",
        "from sklearn import cluster\n",
        "from sklearn import metrics\n",
        "from sklearn.preprocessing import scale\n",
        "pd.set_option('display.precision',3)\n",
        "warnings.filterwarnings('ignore')\n",
        "pd.options.display.max_rows = 300\n",
        "pd.options.display.float_format = '{:20,.2f}'.format"
      ],
      "execution_count": 0,
      "outputs": []
    },
    {
      "cell_type": "code",
      "metadata": {
        "id": "8i5wF0PWrPVk",
        "colab_type": "code",
        "colab": {}
      },
      "source": [
        "#### Replaceable code ##### \n",
        "#df1=pd.read_csv('cf.csv')\n",
        "#df2=pd.read_csv('orig.csv')"
      ],
      "execution_count": 0,
      "outputs": []
    },
    {
      "cell_type": "code",
      "metadata": {
        "id": "4RhhosY0rQM0",
        "colab_type": "code",
        "colab": {}
      },
      "source": [
        "######## The code below is primeraly used for executing in google colabs - pls replace the google colabs code with the commented code above if required###########\n",
        "\n",
        "##### Start of google colabs code ############"
      ],
      "execution_count": 0,
      "outputs": []
    },
    {
      "cell_type": "code",
      "metadata": {
        "id": "C6g8I_tL6fad",
        "colab_type": "code",
        "colab": {}
      },
      "source": [
        "from google.colab import drive\n",
        "drive.mount('/content/drive')"
      ],
      "execution_count": 0,
      "outputs": []
    },
    {
      "cell_type": "code",
      "metadata": {
        "id": "U1CiEUWcM1xf",
        "colab_type": "code",
        "colab": {}
      },
      "source": [
        "## Upload cf.csv file ##\n",
        "from google.colab import files\n",
        "\n",
        "uploaded = files.upload()\n"
      ],
      "execution_count": 0,
      "outputs": []
    },
    {
      "cell_type": "code",
      "metadata": {
        "id": "YFEBmCtBM155",
        "colab_type": "code",
        "colab": {}
      },
      "source": [
        "for fn in uploaded.keys():\n",
        "  print('User uploaded file \"{name}\" with length {length} bytes'.format(\n",
        "      name=fn, length=len(uploaded[fn])))"
      ],
      "execution_count": 0,
      "outputs": []
    },
    {
      "cell_type": "code",
      "metadata": {
        "id": "wzhaOkNYM19e",
        "colab_type": "code",
        "colab": {}
      },
      "source": [
        "uploaded"
      ],
      "execution_count": 0,
      "outputs": []
    },
    {
      "cell_type": "code",
      "metadata": {
        "id": "J3U3zVjRM2AH",
        "colab_type": "code",
        "colab": {}
      },
      "source": [
        "import pandas as pd\n",
        "import io\n",
        "df1 = pd.read_csv(io.StringIO(uploaded['cf.csv'].decode('utf-8')))\n",
        "print(df1)"
      ],
      "execution_count": 0,
      "outputs": []
    },
    {
      "cell_type": "code",
      "metadata": {
        "id": "ir_09mBeM2FD",
        "colab_type": "code",
        "colab": {}
      },
      "source": [
        ""
      ],
      "execution_count": 0,
      "outputs": []
    },
    {
      "cell_type": "code",
      "metadata": {
        "id": "EwVDUPqHM2Cv",
        "colab_type": "code",
        "colab": {}
      },
      "source": [
        "## Upload orig.csv file ##\n",
        "uploaded2 = files.upload()"
      ],
      "execution_count": 0,
      "outputs": []
    },
    {
      "cell_type": "code",
      "metadata": {
        "id": "8mUMHsOoWc_K",
        "colab_type": "code",
        "colab": {}
      },
      "source": [
        "for fn in uploaded2.keys():\n",
        "  print('User uploaded file \"{name}\" with length {length} bytes'.format(\n",
        "      name=fn, length=len(uploaded2[fn])))"
      ],
      "execution_count": 0,
      "outputs": []
    },
    {
      "cell_type": "code",
      "metadata": {
        "id": "9DYT0tz8WdCF",
        "colab_type": "code",
        "colab": {}
      },
      "source": [
        "uploaded2\n"
      ],
      "execution_count": 0,
      "outputs": []
    },
    {
      "cell_type": "code",
      "metadata": {
        "id": "Osgul8LkWdFa",
        "colab_type": "code",
        "colab": {}
      },
      "source": [
        "df2 = pd.read_csv(io.StringIO(uploaded2['orig.csv'].decode('utf-8')))\n",
        "print(df2)"
      ],
      "execution_count": 0,
      "outputs": []
    },
    {
      "cell_type": "code",
      "metadata": {
        "id": "ZLn9GLBfrd1L",
        "colab_type": "code",
        "colab": {}
      },
      "source": [
        "## End of google colabs code ####"
      ],
      "execution_count": 0,
      "outputs": []
    },
    {
      "cell_type": "code",
      "metadata": {
        "id": "fxsXh_Q6reCU",
        "colab_type": "code",
        "colab": {}
      },
      "source": [
        ""
      ],
      "execution_count": 0,
      "outputs": []
    },
    {
      "cell_type": "code",
      "metadata": {
        "id": "qLftsikNW4SE",
        "colab_type": "code",
        "colab": {}
      },
      "source": [
        "#Changing the order of the 3 specified columns\n",
        "df1= df1[[c for c in df1 if c not in ['time', 'viewdoc', 'viewtopic']] \n",
        "       + ['time', 'viewdoc', 'viewtopic']]\n",
        "\n",
        "\n",
        "df1.head()"
      ],
      "execution_count": 0,
      "outputs": []
    },
    {
      "cell_type": "code",
      "metadata": {
        "id": "IjLGw6atmHUY",
        "colab_type": "code",
        "colab": {}
      },
      "source": [
        "df1.shape"
      ],
      "execution_count": 0,
      "outputs": []
    },
    {
      "cell_type": "code",
      "metadata": {
        "id": "P964d8SbmJs8",
        "colab_type": "code",
        "colab": {}
      },
      "source": [
        "df2.shape"
      ],
      "execution_count": 0,
      "outputs": []
    },
    {
      "cell_type": "code",
      "metadata": {
        "id": "bKy0q0YVW4dX",
        "colab_type": "code",
        "colab": {}
      },
      "source": [
        "df = pd.concat([df1,df2])"
      ],
      "execution_count": 0,
      "outputs": []
    },
    {
      "cell_type": "code",
      "metadata": {
        "id": "gy05p1_UW4p0",
        "colab_type": "code",
        "colab": {}
      },
      "source": [
        "df.head(10)"
      ],
      "execution_count": 0,
      "outputs": []
    },
    {
      "cell_type": "code",
      "metadata": {
        "id": "729iYy3q9J0v",
        "colab_type": "code",
        "colab": {}
      },
      "source": [
        "df.columns"
      ],
      "execution_count": 0,
      "outputs": []
    },
    {
      "cell_type": "code",
      "metadata": {
        "id": "h0i3PaHoW4yt",
        "colab_type": "code",
        "colab": {}
      },
      "source": [
        "df.shape"
      ],
      "execution_count": 0,
      "outputs": []
    },
    {
      "cell_type": "code",
      "metadata": {
        "id": "IJI_VET6pJln",
        "colab_type": "code",
        "colab": {}
      },
      "source": [
        "#Creating the rate column \n",
        "df.loc[df['TREL'] == df['urel'], 'rate'] = 1\n",
        "df.loc[df['TREL'] != df['urel'], 'rate'] = 0\n",
        "\n"
      ],
      "execution_count": 0,
      "outputs": []
    },
    {
      "cell_type": "code",
      "metadata": {
        "id": "Y458hU-bCAwK",
        "colab_type": "code",
        "colab": {}
      },
      "source": [
        "df"
      ],
      "execution_count": 0,
      "outputs": []
    },
    {
      "cell_type": "code",
      "metadata": {
        "id": "g5eXqaxgCA_j",
        "colab_type": "code",
        "colab": {}
      },
      "source": [
        ""
      ],
      "execution_count": 0,
      "outputs": []
    },
    {
      "cell_type": "code",
      "metadata": {
        "id": "Uuevqc7JCBgL",
        "colab_type": "code",
        "colab": {}
      },
      "source": [
        ""
      ],
      "execution_count": 0,
      "outputs": []
    },
    {
      "cell_type": "code",
      "metadata": {
        "id": "i-EO4Jm5fKpT",
        "colab_type": "code",
        "colab": {}
      },
      "source": [
        "df.head()"
      ],
      "execution_count": 0,
      "outputs": []
    },
    {
      "cell_type": "code",
      "metadata": {
        "id": "Yi53xGbwBpwC",
        "colab_type": "code",
        "colab": {}
      },
      "source": [
        "df.columns"
      ],
      "execution_count": 0,
      "outputs": []
    },
    {
      "cell_type": "code",
      "metadata": {
        "id": "8Buw94vyfKxz",
        "colab_type": "code",
        "colab": {}
      },
      "source": [
        "#Selecting only the required columns\n",
        "df=df.iloc[:, [5,7,10,11,12,13,14,15,16,17,20]]\n",
        "df.head()"
      ],
      "execution_count": 0,
      "outputs": []
    },
    {
      "cell_type": "code",
      "metadata": {
        "id": "Jr4HRgThfK4x",
        "colab_type": "code",
        "colab": {}
      },
      "source": [
        ""
      ],
      "execution_count": 0,
      "outputs": []
    },
    {
      "cell_type": "code",
      "metadata": {
        "id": "QUPoMi3N2qsu",
        "colab_type": "code",
        "colab": {}
      },
      "source": [
        "df.EDUCATION.describe()"
      ],
      "execution_count": 0,
      "outputs": []
    },
    {
      "cell_type": "code",
      "metadata": {
        "id": "svtbjbB62q5e",
        "colab_type": "code",
        "colab": {}
      },
      "source": [
        "df.EDUCATION.unique()"
      ],
      "execution_count": 0,
      "outputs": []
    },
    {
      "cell_type": "code",
      "metadata": {
        "id": "4Aa66ATe2q_D",
        "colab_type": "code",
        "colab": {}
      },
      "source": [
        "#Checking the PG user assessments \n",
        "test= df.loc[df['EDUCATION'] == \"pg\"]\n",
        "test"
      ],
      "execution_count": 0,
      "outputs": []
    },
    {
      "cell_type": "code",
      "metadata": {
        "id": "_1qRN1hf2q2Y",
        "colab_type": "code",
        "colab": {}
      },
      "source": [
        "test.info()"
      ],
      "execution_count": 0,
      "outputs": []
    },
    {
      "cell_type": "code",
      "metadata": {
        "id": "HrLj-Qt72qzH",
        "colab_type": "code",
        "colab": {}
      },
      "source": [
        "test.loc[test['rate'] == 0].info()"
      ],
      "execution_count": 0,
      "outputs": []
    },
    {
      "cell_type": "code",
      "metadata": {
        "id": "jom7XBPr2ns5",
        "colab_type": "code",
        "colab": {}
      },
      "source": [
        "# Rate mean for pg\n",
        "test_mean=test.rate.mean()\n",
        "test_mean"
      ],
      "execution_count": 0,
      "outputs": []
    },
    {
      "cell_type": "code",
      "metadata": {
        "id": "qTw4VgMX2n1k",
        "colab_type": "code",
        "colab": {}
      },
      "source": [
        "# Rate mean for ug\n",
        "test1= df.loc[df['EDUCATION'] == \"ug\"]\n",
        "test1_mean=test1.rate.mean()\n",
        "test1_mean"
      ],
      "execution_count": 0,
      "outputs": []
    },
    {
      "cell_type": "code",
      "metadata": {
        "id": "1Yu40wsA2n6x",
        "colab_type": "code",
        "colab": {}
      },
      "source": [
        "# Rate mean for Staff\n",
        "test2= df.loc[df['EDUCATION'] == \"staff\"]\n",
        "test2_mean=test2.rate.mean()\n",
        "test2_mean"
      ],
      "execution_count": 0,
      "outputs": []
    },
    {
      "cell_type": "code",
      "metadata": {
        "id": "asfTuXs62oGa",
        "colab_type": "code",
        "colab": {}
      },
      "source": [
        "# Rate mean for no-degree\n",
        "test3= df.loc[df['EDUCATION'] == \"nodegree\"]\n",
        "test3_mean=test3.rate.mean()\n",
        "test3_mean"
      ],
      "execution_count": 0,
      "outputs": []
    },
    {
      "cell_type": "code",
      "metadata": {
        "id": "hEWa7_a12oNF",
        "colab_type": "code",
        "colab": {}
      },
      "source": [
        "status = ('pg', 'ug', 'staff', 'nodegree')\n",
        "y_pos = np.arange(len(status))\n",
        "vari1 = [test_mean, test1_mean, test2_mean, test3_mean]\n",
        "plt.bar(y_pos, vari1, align='center', color='b')\n",
        "plt.xticks(y_pos, status)\n",
        "plt.ylabel('Mean')\n",
        "plt.title('Comparison of rate for text')\n",
        "plt.show()"
      ],
      "execution_count": 0,
      "outputs": []
    },
    {
      "cell_type": "code",
      "metadata": {
        "id": "I18XxFtD2oSb",
        "colab_type": "code",
        "colab": {}
      },
      "source": [
        ""
      ],
      "execution_count": 0,
      "outputs": []
    },
    {
      "cell_type": "code",
      "metadata": {
        "id": "06q4i8yA2oKq",
        "colab_type": "code",
        "colab": {}
      },
      "source": [
        "###### Comparison of Time ##########"
      ],
      "execution_count": 0,
      "outputs": []
    },
    {
      "cell_type": "code",
      "metadata": {
        "id": "R8Vs8eZ7jq2L",
        "colab_type": "code",
        "colab": {}
      },
      "source": [
        "Time= df.loc[df['EDUCATION'] == \"pg\"]\n",
        "Time_mean=Time.time.mean()\n",
        "Time_mean"
      ],
      "execution_count": 0,
      "outputs": []
    },
    {
      "cell_type": "code",
      "metadata": {
        "id": "SggnIttEjrBX",
        "colab_type": "code",
        "colab": {}
      },
      "source": [
        "\n",
        "Time1= df.loc[df['EDUCATION'] == \"ug\"]\n",
        "Time1_mean=Time1.time.mean()\n",
        "Time1_mean"
      ],
      "execution_count": 0,
      "outputs": []
    },
    {
      "cell_type": "code",
      "metadata": {
        "id": "XJvS9bUDdvJt",
        "colab_type": "code",
        "colab": {}
      },
      "source": [
        "Time2= df.loc[df['EDUCATION'] == \"staff\"]\n",
        "Time2_mean=Time2.time.mean()\n",
        "Time2_mean"
      ],
      "execution_count": 0,
      "outputs": []
    },
    {
      "cell_type": "code",
      "metadata": {
        "id": "YuEj9cUHdvO1",
        "colab_type": "code",
        "colab": {}
      },
      "source": [
        "Time3= df.loc[df['EDUCATION'] == \"nodegree\"]\n",
        "Time3_mean=Time3.time.mean()\n",
        "Time3_mean"
      ],
      "execution_count": 0,
      "outputs": []
    },
    {
      "cell_type": "code",
      "metadata": {
        "id": "nfa9yCNMdvT8",
        "colab_type": "code",
        "colab": {}
      },
      "source": [
        "status = ('pg', 'ug', 'staff', 'nodegree')\n",
        "y_pos = np.arange(len(status))\n",
        "vari1 = [Time_mean, Time1_mean, Time2_mean, Time3_mean]\n",
        "plt.bar(y_pos, vari1, align='center', color= 'g')\n",
        "plt.xticks(y_pos, status)\n",
        "plt.ylabel('Mean')\n",
        "plt.title('Comparison of time for text')\n",
        "plt.show()"
      ],
      "execution_count": 0,
      "outputs": []
    },
    {
      "cell_type": "code",
      "metadata": {
        "id": "Q3BMM9gh2nyV",
        "colab_type": "code",
        "colab": {}
      },
      "source": [
        "# CODE FROM: https://www.weirdgeek.com/2018/11/plotting-multiple-bar-graph/\n",
        "var1= [Time_mean, Time1_mean, Time2_mean, Time3_mean]  # green #  \n",
        "var2= [test_mean, test1_mean, test2_mean, test3_mean] # BLUE #  \n",
        "x = np.arange(4)\n",
        "fig = plt.figure(figsize=(15,10)) \n",
        "ax1 = fig.subplots()\n",
        "w = 0.3\n",
        "#plt.xticks(), will label the bars on x axis with the respective country names.\n",
        "plt.xticks(x + w /2, ('pg', 'ug', 'staff', 'nodegree'), rotation='vertical')\n",
        "pop =ax1.bar(x, var2, width=w, color='b', align='center')\n",
        "#The trick is to use two different axes that share the same x axis, we have used ax1.twinx() method.\n",
        "ax2 = ax1.twinx()\n",
        "#We have calculated GDP by dividing gdpPerCapita to population.\n",
        "gdp =ax2.bar(x + w, var1, width=w,color='g',align='center')\n",
        "#Set the Y axis label as GDP.\n",
        "plt.ylabel('Milliseconds (ms)')\n",
        "#To set the legend on the plot we have used plt.legend()\n",
        "plt.legend([pop, gdp],['precison rate', 'time'])\n",
        "#To show the plot finally we have used plt.show().\n",
        "plt.title('Comparison of time and rate for text')\n",
        "plt.show()"
      ],
      "execution_count": 0,
      "outputs": []
    },
    {
      "cell_type": "code",
      "metadata": {
        "id": "0cSPyzuP2nls",
        "colab_type": "code",
        "colab": {}
      },
      "source": [
        "###### comparison of user behaviours #######"
      ],
      "execution_count": 0,
      "outputs": []
    },
    {
      "cell_type": "code",
      "metadata": {
        "id": "1EkfAS0b1_rd",
        "colab_type": "code",
        "colab": {}
      },
      "source": [
        "frust= df.loc[df['EDUCATION'] == \"pg\"]\n",
        "frust_mean=frust.frust.mean()\n",
        "print(frust_mean)\n",
        "\n",
        "frust1= df.loc[df['EDUCATION'] == \"ug\"]\n",
        "frust1_mean=frust1.frust.mean()\n",
        "print(frust1_mean)\n",
        "\n",
        "frust2= df.loc[df['EDUCATION'] == \"staff\"]\n",
        "frust2_mean=frust2.frust.mean()\n",
        "print(frust2_mean)\n",
        "\n",
        "frust3= df.loc[df['EDUCATION'] == \"nodegree\"]\n",
        "frust3_mean=frust3.frust.mean()\n",
        "print(frust3_mean)\n"
      ],
      "execution_count": 0,
      "outputs": []
    },
    {
      "cell_type": "code",
      "metadata": {
        "id": "WutjLGdaDj8d",
        "colab_type": "code",
        "colab": {}
      },
      "source": [
        "phy= df.loc[df['EDUCATION'] == \"pg\"]\n",
        "phy_mean=phy.physical.mean()\n",
        "print(phy_mean)\n",
        "\n",
        "phy1= df.loc[df['EDUCATION'] == \"ug\"]\n",
        "phy1_mean=phy1.physical.mean()\n",
        "print(phy1_mean)\n",
        "\n",
        "phy2= df.loc[df['EDUCATION'] == \"staff\"]\n",
        "phy2_mean=phy2.physical.mean()\n",
        "print(phy2_mean)\n",
        "\n",
        "phy3= df.loc[df['EDUCATION'] == \"nodegree\"]\n",
        "phy3_mean=phy3.physical.mean()\n",
        "print(phy3_mean)\n"
      ],
      "execution_count": 0,
      "outputs": []
    },
    {
      "cell_type": "code",
      "metadata": {
        "id": "KJM9DHAPDj_s",
        "colab_type": "code",
        "colab": {}
      },
      "source": [
        "temp= df.loc[df['EDUCATION'] == \"pg\"]\n",
        "temp_mean=temp.temp.mean()\n",
        "print(temp_mean)\n",
        "\n",
        "temp1= df.loc[df['EDUCATION'] == \"ug\"]\n",
        "temp1_mean=temp1.temp.mean()\n",
        "print(temp1_mean)\n",
        "\n",
        "temp2= df.loc[df['EDUCATION'] == \"staff\"]\n",
        "temp2_mean=temp2.temp.mean()\n",
        "print(temp2_mean)\n",
        "\n",
        "temp3= df.loc[df['EDUCATION'] == \"nodegree\"]\n",
        "temp3_mean=temp3.temp.mean()\n",
        "print(temp3_mean)"
      ],
      "execution_count": 0,
      "outputs": []
    },
    {
      "cell_type": "code",
      "metadata": {
        "id": "AElWfES5DkDR",
        "colab_type": "code",
        "colab": {}
      },
      "source": [
        "ment= df.loc[df['EDUCATION'] == \"pg\"]\n",
        "ment_mean=ment.mental.mean()\n",
        "print(ment_mean)\n",
        "\n",
        "ment1= df.loc[df['EDUCATION'] == \"ug\"]\n",
        "ment1_mean=ment1.mental.mean()\n",
        "print(ment1_mean)\n",
        "\n",
        "ment2= df.loc[df['EDUCATION'] == \"staff\"]\n",
        "ment2_mean=ment2.mental.mean()\n",
        "print(ment2_mean)\n",
        "\n",
        "ment3= df.loc[df['EDUCATION'] == \"nodegree\"]\n",
        "ment3_mean=ment3.mental.mean()\n",
        "print(ment3_mean)"
      ],
      "execution_count": 0,
      "outputs": []
    },
    {
      "cell_type": "code",
      "metadata": {
        "id": "Pvnn4c6vdj6v",
        "colab_type": "code",
        "colab": {}
      },
      "source": [
        "perf= df.loc[df['EDUCATION'] == \"pg\"]\n",
        "perf_mean=perf.perf.mean()\n",
        "print(perf_mean)\n",
        "\n",
        "perf1= df.loc[df['EDUCATION'] == \"ug\"]\n",
        "perf1_mean=perf1.perf.mean()\n",
        "print(perf1_mean)\n",
        "\n",
        "perf2= df.loc[df['EDUCATION'] == \"staff\"]\n",
        "perf2_mean=perf2.perf.mean()\n",
        "print(perf2_mean)\n",
        "\n",
        "perf3= df.loc[df['EDUCATION'] == \"nodegree\"]\n",
        "perf3_mean=perf3.perf.mean()\n",
        "print(perf3_mean)"
      ],
      "execution_count": 0,
      "outputs": []
    },
    {
      "cell_type": "code",
      "metadata": {
        "id": "UpWvijrZdkKW",
        "colab_type": "code",
        "colab": {}
      },
      "source": [
        "eff= df.loc[df['EDUCATION'] == \"pg\"]\n",
        "eff_mean=eff.effort.mean()\n",
        "print(eff_mean)\n",
        "\n",
        "eff1= df.loc[df['EDUCATION'] == \"ug\"]\n",
        "eff1_mean=eff1.effort.mean()\n",
        "print(eff1_mean)\n",
        "\n",
        "eff2= df.loc[df['EDUCATION'] == \"staff\"]\n",
        "eff2_mean=eff2.effort.mean()\n",
        "print(eff2_mean)\n",
        "\n",
        "eff3= df.loc[df['EDUCATION'] == \"nodegree\"]\n",
        "eff3_mean=eff3.effort.mean()\n",
        "print(eff3_mean)"
      ],
      "execution_count": 0,
      "outputs": []
    },
    {
      "cell_type": "code",
      "metadata": {
        "id": "ivu8vBYydvht",
        "colab_type": "code",
        "colab": {}
      },
      "source": [
        "import matplotlib.pyplot as pyplot\n",
        "status = ('pg', 'ug', 'staff', 'nodegree')\n",
        "y_pos = np.arange(len(status))\n",
        "vari1 = [frust_mean, frust1_mean, frust2_mean, frust3_mean]\n",
        "vari2 = [phy_mean, phy1_mean, phy2_mean, phy3_mean]\n",
        "vari3 = [temp_mean, temp1_mean, temp2_mean, temp3_mean]\n",
        "vari4 = [ment_mean, ment1_mean, ment2_mean, ment3_mean]\n",
        "fig = pyplot.figure(figsize=(20,10))\n",
        "fig.suptitle('Bar Charts for behaviours', fontsize=16)\n",
        "pyplot.subplot(221)\n",
        "pyplot.bar(y_pos, vari1)\n",
        "pyplot.xticks(y_pos, status)\n",
        "pyplot.title('frust Bar Chart')\n",
        "pyplot.xlabel('mean')\n",
        "pyplot.ylabel('frust')\n",
        "pyplot.subplot(222)\n",
        "pyplot.bar(y_pos, vari2)\n",
        "pyplot.xticks(y_pos, status)\n",
        "pyplot.title('physical Bar Chart')\n",
        "pyplot.xlabel('mean')\n",
        "pyplot.ylabel('physical')\n",
        "pyplot.subplot(223)\n",
        "pyplot.bar(y_pos, vari3)\n",
        "pyplot.xticks(y_pos, status)\n",
        "pyplot.title('temp Bar Chart')\n",
        "pyplot.xlabel('mean')\n",
        "pyplot.ylabel('temp')\n",
        "pyplot.subplot(224)\n",
        "pyplot.bar(y_pos, vari4)\n",
        "pyplot.xticks(y_pos, status)\n",
        "pyplot.title('Mental Bar Chart')\n",
        "pyplot.xlabel('mean')\n",
        "pyplot.ylabel('mental')\n"
      ],
      "execution_count": 0,
      "outputs": []
    },
    {
      "cell_type": "code",
      "metadata": {
        "id": "U4yRbIii1_ub",
        "colab_type": "code",
        "colab": {}
      },
      "source": [
        "status = ('pg', 'ug', 'staff', 'nodegree')\n",
        "y_pos = np.arange(len(status))\n",
        "vari5 = [perf_mean, perf1_mean, perf2_mean, perf3_mean]\n",
        "vari6 = [eff_mean, eff1_mean, eff2_mean, eff3_mean]\n",
        "fig = pyplot.figure(figsize=(20,10))\n",
        "pyplot.subplot(221)\n",
        "pyplot.bar(y_pos, vari5)\n",
        "pyplot.xticks(y_pos, status)\n",
        "pyplot.title('perf Bar Chart')\n",
        "pyplot.xlabel('mean')\n",
        "pyplot.ylabel('perf')\n",
        "pyplot.subplot(222)\n",
        "pyplot.bar(y_pos, vari6)\n",
        "pyplot.xticks(y_pos, status)\n",
        "pyplot.title('effort Bar Chart')\n",
        "pyplot.xlabel('mean')\n",
        "pyplot.ylabel('perf')"
      ],
      "execution_count": 0,
      "outputs": []
    },
    {
      "cell_type": "code",
      "metadata": {
        "id": "DiZ8rJgl3f4s",
        "colab_type": "code",
        "colab": {}
      },
      "source": [
        ""
      ],
      "execution_count": 0,
      "outputs": []
    }
  ]
}